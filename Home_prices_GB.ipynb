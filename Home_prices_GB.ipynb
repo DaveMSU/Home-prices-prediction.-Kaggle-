{
  "nbformat": 4,
  "nbformat_minor": 0,
  "metadata": {
    "colab": {
      "name": "Home prices. GB",
      "provenance": [],
      "collapsed_sections": [],
      "toc_visible": true,
      "include_colab_link": true
    },
    "kernelspec": {
      "name": "python3",
      "display_name": "Python 3"
    }
  },
  "cells": [
    {
      "cell_type": "markdown",
      "metadata": {
        "id": "view-in-github",
        "colab_type": "text"
      },
      "source": [
        "<a href=\"https://colab.research.google.com/github/DaveMSU/Home-prices-prediction.-Kaggle-/blob/master/Home_prices_GB.ipynb\" target=\"_parent\"><img src=\"https://colab.research.google.com/assets/colab-badge.svg\" alt=\"Open In Colab\"/></a>"
      ]
    },
    {
      "cell_type": "markdown",
      "metadata": {
        "id": "iYcEsTZJHd05",
        "colab_type": "text"
      },
      "source": [
        "#**Препарация train.csv и test.csv:**"
      ]
    },
    {
      "cell_type": "code",
      "metadata": {
        "id": "bCaEo3xHEMXn",
        "colab_type": "code",
        "colab": {}
      },
      "source": [
        "import warnings\n",
        "warnings.filterwarnings(\"ignore\")"
      ],
      "execution_count": 0,
      "outputs": []
    },
    {
      "cell_type": "code",
      "metadata": {
        "id": "fjg773sGHhg3",
        "colab_type": "code",
        "outputId": "bd0787ca-e8d9-48eb-d68d-4cb68a2b6994",
        "colab": {
          "base_uri": "https://localhost:8080/",
          "height": 214
        }
      },
      "source": [
        "import numpy as np\n",
        "import pandas as pd\n",
        "\n",
        "train_df = pd.read_csv('Train.csv')\n",
        "train_df['time'] = 0\n",
        "train_df['time'] = pd.to_datetime(train_df['date']).astype(int)/ 10**10 \n",
        "train_df = train_df.drop(['date'], axis=1)\n",
        "test_df  = pd.read_csv('Test.csv')\n",
        "test_df['time'] = 0\n",
        "test_df['time'] = pd.to_datetime(test_df['date']).astype(int)/ 10**10\n",
        "test_df = test_df.drop(['date'], axis=1)\n",
        "\n",
        "train_df.head()"
      ],
      "execution_count": 0,
      "outputs": [
        {
          "output_type": "execute_result",
          "data": {
            "text/html": [
              "<div>\n",
              "<style scoped>\n",
              "    .dataframe tbody tr th:only-of-type {\n",
              "        vertical-align: middle;\n",
              "    }\n",
              "\n",
              "    .dataframe tbody tr th {\n",
              "        vertical-align: top;\n",
              "    }\n",
              "\n",
              "    .dataframe thead th {\n",
              "        text-align: right;\n",
              "    }\n",
              "</style>\n",
              "<table border=\"1\" class=\"dataframe\">\n",
              "  <thead>\n",
              "    <tr style=\"text-align: right;\">\n",
              "      <th></th>\n",
              "      <th>id</th>\n",
              "      <th>street_id</th>\n",
              "      <th>build_tech</th>\n",
              "      <th>floor</th>\n",
              "      <th>area</th>\n",
              "      <th>rooms</th>\n",
              "      <th>balcon</th>\n",
              "      <th>metro_dist</th>\n",
              "      <th>g_lift</th>\n",
              "      <th>n_photos</th>\n",
              "      <th>kw1</th>\n",
              "      <th>kw2</th>\n",
              "      <th>kw3</th>\n",
              "      <th>kw4</th>\n",
              "      <th>kw5</th>\n",
              "      <th>kw6</th>\n",
              "      <th>kw7</th>\n",
              "      <th>kw8</th>\n",
              "      <th>kw9</th>\n",
              "      <th>kw10</th>\n",
              "      <th>kw11</th>\n",
              "      <th>kw12</th>\n",
              "      <th>kw13</th>\n",
              "      <th>price</th>\n",
              "      <th>time</th>\n",
              "    </tr>\n",
              "  </thead>\n",
              "  <tbody>\n",
              "    <tr>\n",
              "      <th>0</th>\n",
              "      <td>0</td>\n",
              "      <td>531</td>\n",
              "      <td>NaN</td>\n",
              "      <td>12</td>\n",
              "      <td>35</td>\n",
              "      <td>1</td>\n",
              "      <td>1</td>\n",
              "      <td>25.0</td>\n",
              "      <td>NaN</td>\n",
              "      <td>1</td>\n",
              "      <td>0</td>\n",
              "      <td>1</td>\n",
              "      <td>0</td>\n",
              "      <td>0</td>\n",
              "      <td>0</td>\n",
              "      <td>0</td>\n",
              "      <td>0</td>\n",
              "      <td>0</td>\n",
              "      <td>0</td>\n",
              "      <td>0</td>\n",
              "      <td>0</td>\n",
              "      <td>0</td>\n",
              "      <td>0</td>\n",
              "      <td>3721000</td>\n",
              "      <td>129384000.0</td>\n",
              "    </tr>\n",
              "    <tr>\n",
              "      <th>1</th>\n",
              "      <td>1</td>\n",
              "      <td>385</td>\n",
              "      <td>2.0</td>\n",
              "      <td>15</td>\n",
              "      <td>46</td>\n",
              "      <td>1</td>\n",
              "      <td>2</td>\n",
              "      <td>15.0</td>\n",
              "      <td>1.0</td>\n",
              "      <td>1</td>\n",
              "      <td>0</td>\n",
              "      <td>0</td>\n",
              "      <td>0</td>\n",
              "      <td>0</td>\n",
              "      <td>0</td>\n",
              "      <td>0</td>\n",
              "      <td>0</td>\n",
              "      <td>0</td>\n",
              "      <td>0</td>\n",
              "      <td>0</td>\n",
              "      <td>0</td>\n",
              "      <td>0</td>\n",
              "      <td>0</td>\n",
              "      <td>7431000</td>\n",
              "      <td>129384000.0</td>\n",
              "    </tr>\n",
              "    <tr>\n",
              "      <th>2</th>\n",
              "      <td>2</td>\n",
              "      <td>51</td>\n",
              "      <td>0.0</td>\n",
              "      <td>1</td>\n",
              "      <td>53</td>\n",
              "      <td>3</td>\n",
              "      <td>0</td>\n",
              "      <td>30.0</td>\n",
              "      <td>0.0</td>\n",
              "      <td>7</td>\n",
              "      <td>0</td>\n",
              "      <td>1</td>\n",
              "      <td>0</td>\n",
              "      <td>0</td>\n",
              "      <td>0</td>\n",
              "      <td>0</td>\n",
              "      <td>0</td>\n",
              "      <td>0</td>\n",
              "      <td>0</td>\n",
              "      <td>0</td>\n",
              "      <td>0</td>\n",
              "      <td>0</td>\n",
              "      <td>0</td>\n",
              "      <td>3081000</td>\n",
              "      <td>129384000.0</td>\n",
              "    </tr>\n",
              "    <tr>\n",
              "      <th>3</th>\n",
              "      <td>3</td>\n",
              "      <td>76</td>\n",
              "      <td>0.0</td>\n",
              "      <td>1</td>\n",
              "      <td>60</td>\n",
              "      <td>3</td>\n",
              "      <td>0</td>\n",
              "      <td>30.0</td>\n",
              "      <td>0.0</td>\n",
              "      <td>2</td>\n",
              "      <td>0</td>\n",
              "      <td>0</td>\n",
              "      <td>0</td>\n",
              "      <td>0</td>\n",
              "      <td>0</td>\n",
              "      <td>0</td>\n",
              "      <td>0</td>\n",
              "      <td>0</td>\n",
              "      <td>0</td>\n",
              "      <td>0</td>\n",
              "      <td>0</td>\n",
              "      <td>0</td>\n",
              "      <td>0</td>\n",
              "      <td>3847000</td>\n",
              "      <td>129384000.0</td>\n",
              "    </tr>\n",
              "    <tr>\n",
              "      <th>4</th>\n",
              "      <td>4</td>\n",
              "      <td>114</td>\n",
              "      <td>0.0</td>\n",
              "      <td>2</td>\n",
              "      <td>43</td>\n",
              "      <td>2</td>\n",
              "      <td>0</td>\n",
              "      <td>30.0</td>\n",
              "      <td>0.0</td>\n",
              "      <td>1</td>\n",
              "      <td>0</td>\n",
              "      <td>1</td>\n",
              "      <td>0</td>\n",
              "      <td>0</td>\n",
              "      <td>0</td>\n",
              "      <td>0</td>\n",
              "      <td>0</td>\n",
              "      <td>0</td>\n",
              "      <td>0</td>\n",
              "      <td>0</td>\n",
              "      <td>0</td>\n",
              "      <td>0</td>\n",
              "      <td>0</td>\n",
              "      <td>2323000</td>\n",
              "      <td>129384000.0</td>\n",
              "    </tr>\n",
              "  </tbody>\n",
              "</table>\n",
              "</div>"
            ],
            "text/plain": [
              "   id  street_id  build_tech  floor  ...  kw12  kw13    price         time\n",
              "0   0        531         NaN     12  ...     0     0  3721000  129384000.0\n",
              "1   1        385         2.0     15  ...     0     0  7431000  129384000.0\n",
              "2   2         51         0.0      1  ...     0     0  3081000  129384000.0\n",
              "3   3         76         0.0      1  ...     0     0  3847000  129384000.0\n",
              "4   4        114         0.0      2  ...     0     0  2323000  129384000.0\n",
              "\n",
              "[5 rows x 25 columns]"
            ]
          },
          "metadata": {
            "tags": []
          },
          "execution_count": 23
        }
      ]
    },
    {
      "cell_type": "code",
      "metadata": {
        "id": "QqwJJhb9z4J3",
        "colab_type": "code",
        "outputId": "c49b96b8-4bd7-4989-f1ec-6b906352862d",
        "colab": {
          "base_uri": "https://localhost:8080/",
          "height": 35
        }
      },
      "source": [
        "train_df.g_lift.unique()"
      ],
      "execution_count": 0,
      "outputs": [
        {
          "output_type": "execute_result",
          "data": {
            "text/plain": [
              "array([nan,  1.,  0.])"
            ]
          },
          "metadata": {
            "tags": []
          },
          "execution_count": 9
        }
      ]
    },
    {
      "cell_type": "code",
      "metadata": {
        "id": "MmPsGvB2HjK7",
        "colab_type": "code",
        "colab": {}
      },
      "source": [
        "proc_test_df = test_df\n",
        "query_build_tech = test_df['build_tech'].isnull()\n",
        "proc_test_df.loc[query_build_tech, ['build_tech']] = test_df.loc[~query_build_tech, 'build_tech'].median()\n",
        "\n",
        "query_metro_dist = test_df['metro_dist'].isnull()\n",
        "proc_test_df.loc[query_metro_dist, ['metro_dist']] = test_df.loc[~query_metro_dist, 'metro_dist'].median()\n",
        "\n",
        "query_g_lift = test_df['g_lift'].isnull()\n",
        "proc_test_df.loc[query_g_lift, ['g_lift']] = test_df.loc[~query_g_lift, 'g_lift'].median()\n",
        "\n",
        "#proc_test_df.isnull().sum(), proc_test_df.shape\n",
        "\n",
        "\n",
        "proc_train_df = train_df\n",
        "query_build_tech = train_df['build_tech'].isnull()\n",
        "proc_train_df.loc[query_build_tech, ['build_tech']] = proc_train_df.loc[~query_build_tech, 'build_tech'].median()\n",
        "\n",
        "query_metro_dist = train_df['metro_dist'].isnull()\n",
        "proc_train_df.loc[query_metro_dist, ['metro_dist']] = proc_train_df.loc[~query_metro_dist, 'metro_dist'].median()\n",
        "\n",
        "query_g_lift = train_df['g_lift'].isnull()\n",
        "proc_train_df.loc[query_g_lift, ['g_lift']] = proc_train_df.loc[~query_g_lift, 'g_lift'].median()\n",
        "\n",
        "#proc_train_df.isnull().sum(), proc_train_df.shape"
      ],
      "execution_count": 0,
      "outputs": []
    },
    {
      "cell_type": "code",
      "metadata": {
        "id": "cyAndVbFHtnc",
        "colab_type": "code",
        "colab": {}
      },
      "source": [
        "proc_train_df.head(20)"
      ],
      "execution_count": 0,
      "outputs": []
    },
    {
      "cell_type": "code",
      "metadata": {
        "id": "ZioREt3xHvdk",
        "colab_type": "code",
        "outputId": "f911335c-60d6-4247-f945-2f3daa4411e7",
        "colab": {
          "base_uri": "https://localhost:8080/",
          "height": 177
        }
      },
      "source": [
        "X_data = proc_train_df.drop(['price', 'id'], axis = 1).astype(\"float64\").values\n",
        "y_data = proc_train_df['price'].astype(\"float64\").values\n",
        "X_test = proc_test_df.drop(['id'], axis = 1).astype(\"float64\").values\n",
        "\n",
        "print('X_train:\\nshape: ', X_data.shape, '\\ndtype: ', X_data.dtype)\n",
        "print('y_train:\\nshape: ', y_data.shape, '\\ndtype: ', y_data.dtype)\n",
        "print('X_test:\\nshape: ', X_test.shape, '\\ndtype: ', X_test.dtype)"
      ],
      "execution_count": 0,
      "outputs": [
        {
          "output_type": "stream",
          "text": [
            "X_train:\n",
            "shape:  (100000, 23) \n",
            "dtype:  float64\n",
            "y_train:\n",
            "shape:  (100000,) \n",
            "dtype:  float64\n",
            "X_test:\n",
            "shape:  (100000, 23) \n",
            "dtype:  float64\n"
          ],
          "name": "stdout"
        }
      ]
    },
    {
      "cell_type": "code",
      "metadata": {
        "id": "oRkRnLATLbq-",
        "colab_type": "code",
        "colab": {}
      },
      "source": [
        "#Библиотеки моделей для решения задачи регрессии.\n",
        "\n",
        "from sklearn              import tree\n",
        "from sklearn.linear_model import LinearRegression\n",
        "from sklearn.neighbors    import KNeighborsRegressor\n",
        "from sklearn.svm          import SVR\n",
        "from sklearn.ensemble     import RandomForestRegressor\n",
        "#main one under!\n",
        "from sklearn.ensemble     import GradientBoostingRegressor"
      ],
      "execution_count": 0,
      "outputs": []
    },
    {
      "cell_type": "code",
      "metadata": {
        "id": "riTAnc40MNzq",
        "colab_type": "code",
        "outputId": "045e125e-e4d8-4416-e4ee-88d66fa6da2f",
        "colab": {
          "base_uri": "https://localhost:8080/",
          "height": 88
        }
      },
      "source": [
        "from sklearn.model_selection import train_test_split\n",
        "from sklearn.model_selection import cross_val_score\n",
        "from sklearn.metrics.scorer  import make_scorer\n",
        "from sklearn.metrics         import mean_squared_error as MSE\n",
        "from sklearn.metrics         import mean_absolute_error as MAE\n",
        "from sklearn.metrics         import explained_variance_score as EVS\n",
        "\n",
        "\n",
        "X_train, X_val, y_train, y_val = train_test_split(X_data, y_data, test_size = 0.333, random_state=7)\n",
        "\n",
        "print('X_train.shape: ', X_train.shape)\n",
        "print('y_train.shape: ', y_train.shape)\n",
        "print('X_val.shape: ', X_val.shape)\n",
        "print('y_val.shape: ', y_val.shape)"
      ],
      "execution_count": 0,
      "outputs": [
        {
          "output_type": "stream",
          "text": [
            "X_train.shape:  (66700, 23)\n",
            "y_train.shape:  (66700,)\n",
            "X_val.shape:  (33300, 23)\n",
            "y_val.shape:  (33300,)\n"
          ],
          "name": "stdout"
        }
      ]
    },
    {
      "cell_type": "code",
      "metadata": {
        "id": "fX_cvRR-NZfE",
        "colab_type": "code",
        "colab": {}
      },
      "source": [
        "from sklearn.model_selection import cross_val_score\n",
        "from sklearn.metrics.scorer  import make_scorer"
      ],
      "execution_count": 0,
      "outputs": []
    },
    {
      "cell_type": "code",
      "metadata": {
        "id": "qBkC7KQhNb9v",
        "colab_type": "code",
        "colab": {}
      },
      "source": [
        "import time"
      ],
      "execution_count": 0,
      "outputs": []
    },
    {
      "cell_type": "markdown",
      "metadata": {
        "id": "klq5W4BnOnpR",
        "colab_type": "text"
      },
      "source": [
        "#***Заполнение пропусков более умным способом:***"
      ]
    },
    {
      "cell_type": "code",
      "metadata": {
        "id": "AVeW0dsl3mr2",
        "colab_type": "code",
        "colab": {}
      },
      "source": [
        "#Библиотеки моделей для решения задачи регрессии.\n",
        "\n",
        "from sklearn.neighbors    import KNeighborsClassifier\n",
        "from sklearn.ensemble     import RandomForestClassifier\n",
        "from sklearn.linear_model import LogisticRegression\n",
        "#main one under!\n",
        "from sklearn.ensemble     import GradientBoostingClassifier"
      ],
      "execution_count": 0,
      "outputs": []
    },
    {
      "cell_type": "code",
      "metadata": {
        "id": "H5j2BsHx3ccx",
        "colab_type": "code",
        "colab": {}
      },
      "source": [
        "#Метрики для классификации.\n",
        "\n",
        "from sklearn.metrics import accuracy_score as ACC\n",
        "from sklearn.metrics import f1_score       as F1\n",
        "from sklearn.metrics import roc_auc_score  as ROC"
      ],
      "execution_count": 0,
      "outputs": []
    },
    {
      "cell_type": "markdown",
      "metadata": {
        "id": "vYmF2IYlAe2W",
        "colab_type": "text"
      },
      "source": [
        "#***'build_tech':***"
      ]
    },
    {
      "cell_type": "code",
      "metadata": {
        "id": "Hrf-kq9U6Qmq",
        "colab_type": "code",
        "outputId": "32cd1412-7eed-43a6-8ebf-3481a72e2a86",
        "colab": {
          "base_uri": "https://localhost:8080/",
          "height": 124
        }
      },
      "source": [
        "label_name = 'build_tech'\n",
        "X_pre_data = np.concatenate( (train_df.loc[ ~train_df[label_name].isnull() ]\\\n",
        "                              .drop(['metro_dist', 'g_lift', 'build_tech', 'price', 'id'], axis = 1)\\\n",
        "                              .astype(\"float64\").values,\\\n",
        "                              test_df.loc[ ~test_df[label_name].isnull() ]\\\n",
        "                              .drop(['metro_dist', 'g_lift', 'build_tech', 'id'], axis = 1)\\\n",
        "                              .astype(int).values),\\\n",
        "                              axis=0)\n",
        "\n",
        "                    \n",
        "                  \n",
        "y_pre_data = np.concatenate( (train_df.loc[ ~train_df[label_name]\\\n",
        "                                      .isnull() ][label_name].astype(int).values,\n",
        "                              test_df.loc[ ~test_df[label_name]\\\n",
        "                                     .isnull() ][label_name].astype(int).values),\\\n",
        "                              axis=0)\n",
        "                              \n",
        "\n",
        "print('X_pre_train:\\nshape: ', X_pre_data.shape, '\\ndtype: ', X_pre_data.dtype)\n",
        "print('y_pre_train:\\nshape: ', y_pre_data.shape, '\\ndtype: ', y_pre_data.dtype)"
      ],
      "execution_count": 0,
      "outputs": [
        {
          "output_type": "stream",
          "text": [
            "X_pre_train:\n",
            "shape:  (140127, 20) \n",
            "dtype:  float64\n",
            "y_pre_train:\n",
            "shape:  (140127,) \n",
            "dtype:  int64\n"
          ],
          "name": "stdout"
        }
      ]
    },
    {
      "cell_type": "code",
      "metadata": {
        "id": "UJK74BQ98E3y",
        "colab_type": "code",
        "outputId": "1e0dfc34-1acd-486b-8993-dd5dda354bac",
        "colab": {
          "base_uri": "https://localhost:8080/",
          "height": 35
        }
      },
      "source": [
        "#begin:\n",
        "t_before = time.time()\n",
        "\n",
        "X_train, X_val, y_train, y_val = train_test_split(X_pre_data, y_pre_data, test_size = 0.333, random_state=7)\n",
        "\n",
        "model = RandomForestClassifier(random_state=7)\n",
        "model.fit(X_train, y_train)\n",
        "y_pred = model.predict(X_val)\n",
        "\n",
        "acc_score = ACC(y_pred, y_val)\n",
        "f1_score  = F1(y_pred, y_val, average='weighted')\n",
        "\n",
        "model.fit(X_pre_data, y_pre_data)\n",
        "\n",
        "t_after = time.time()\n",
        "#end.\n",
        "\n",
        "print('acc_score:', \"%.3f\" % acc_score, '  ',\\\n",
        "      'f1_score:',  \"%.3f\" % f1_score, '  ',\\\n",
        "      'time:', \"%.2f\" % (t_after - t_before))"
      ],
      "execution_count": 0,
      "outputs": [
        {
          "output_type": "stream",
          "text": [
            "acc_score: 0.930    f1_score: 0.930    time: 2.38\n"
          ],
          "name": "stdout"
        }
      ]
    },
    {
      "cell_type": "code",
      "metadata": {
        "id": "9hqOKKqSPMRx",
        "colab_type": "code",
        "colab": {}
      },
      "source": [
        "X_pre_test_train = train_df.loc[ train_df[label_name].isnull() ].drop(['metro_dist', 'g_lift', 'build_tech', 'price', 'id'], axis=1).astype(\"float64\").values\n",
        "y_pre_test_train = model.predict(X_pre_test_train)"
      ],
      "execution_count": 0,
      "outputs": []
    },
    {
      "cell_type": "code",
      "metadata": {
        "id": "gvQICjBxTGBk",
        "colab_type": "code",
        "colab": {}
      },
      "source": [
        "train_df.loc[ train_df[label_name].isnull(), label_name ] = y_pre_test_train"
      ],
      "execution_count": 0,
      "outputs": []
    },
    {
      "cell_type": "code",
      "metadata": {
        "id": "Yznj4CRtTIR8",
        "colab_type": "code",
        "colab": {}
      },
      "source": [
        "X_pre_test = test_df.loc[ test_df[label_name].isnull() ].drop(['metro_dist', 'g_lift', 'build_tech', 'id'], axis=1).astype(\"float64\").values\n",
        "y_pre_test = model.predict(X_pre_test)\n",
        "test_df.loc[ test_df[label_name].isnull(), label_name ] = y_pre_test"
      ],
      "execution_count": 0,
      "outputs": []
    },
    {
      "cell_type": "markdown",
      "metadata": {
        "id": "WksUbtB-An_R",
        "colab_type": "text"
      },
      "source": [
        "#***'g_lift':***\n"
      ]
    },
    {
      "cell_type": "code",
      "metadata": {
        "id": "HRKpwNzDA9WK",
        "colab_type": "code",
        "outputId": "d87d411e-2870-43ad-ae46-906ad75a840d",
        "colab": {
          "base_uri": "https://localhost:8080/",
          "height": 124
        }
      },
      "source": [
        "label_name = 'g_lift'\n",
        "X_pre_data = np.concatenate( (train_df.loc[ ~train_df[label_name].isnull() ]\\\n",
        "                              .drop(['metro_dist', 'g_lift', 'build_tech', 'price', 'id'], axis = 1)\\\n",
        "                              .astype(\"float64\").values,\\\n",
        "                              test_df.loc[ ~test_df[label_name].isnull() ]\\\n",
        "                              .drop(['metro_dist', 'g_lift', 'build_tech', 'id'], axis = 1)\\\n",
        "                              .astype(int).values),\\\n",
        "                              axis=0)\n",
        "\n",
        "                    \n",
        "                  \n",
        "y_pre_data = np.concatenate( (train_df.loc[ ~train_df[label_name]\\\n",
        "                                      .isnull() ][label_name].astype(int).values,\n",
        "                              test_df.loc[ ~test_df[label_name]\\\n",
        "                                     .isnull() ][label_name].astype(int).values),\\\n",
        "                              axis=0)\n",
        "                              \n",
        "\n",
        "print('X_pre_train:\\nshape: ', X_pre_data.shape, '\\ndtype: ', X_pre_data.dtype)\n",
        "print('y_pre_train:\\nshape: ', y_pre_data.shape, '\\ndtype: ', y_pre_data.dtype)"
      ],
      "execution_count": 0,
      "outputs": [
        {
          "output_type": "stream",
          "text": [
            "X_pre_train:\n",
            "shape:  (139700, 20) \n",
            "dtype:  float64\n",
            "y_pre_train:\n",
            "shape:  (139700,) \n",
            "dtype:  int64\n"
          ],
          "name": "stdout"
        }
      ]
    },
    {
      "cell_type": "code",
      "metadata": {
        "id": "ELb-V1SWBGv8",
        "colab_type": "code",
        "outputId": "1525e957-7665-4e80-f8a4-4cfc363cc43b",
        "colab": {
          "base_uri": "https://localhost:8080/",
          "height": 35
        }
      },
      "source": [
        "#begin:\n",
        "t_before = time.time()\n",
        "\n",
        "X_train, X_val, y_train, y_val = train_test_split(X_pre_data, y_pre_data, test_size = 0.333, random_state=7)\n",
        "\n",
        "model = RandomForestClassifier(random_state=7)\n",
        "model.fit(X_train, y_train)\n",
        "y_pred = model.predict(X_val)\n",
        "\n",
        "acc_score = ACC(y_pred, y_val)\n",
        "f1_score  = F1(y_pred, y_val, average='weighted')\n",
        "\n",
        "model.fit(X_pre_data, y_pre_data)\n",
        "\n",
        "t_after = time.time()\n",
        "#end.\n",
        "\n",
        "print('acc_score:', \"%.3f\" % acc_score, '  ',\\\n",
        "      'f1_score:',  \"%.3f\" % f1_score, '  ',\\\n",
        "      'time:', \"%.2f\" % (t_after - t_before))"
      ],
      "execution_count": 0,
      "outputs": [
        {
          "output_type": "stream",
          "text": [
            "acc_score: 0.502    f1_score: 0.507    time: 4.27\n"
          ],
          "name": "stdout"
        }
      ]
    },
    {
      "cell_type": "code",
      "metadata": {
        "id": "u13BpuvwA0ii",
        "colab_type": "code",
        "colab": {}
      },
      "source": [
        "X_pre_test_train = train_df.loc[ train_df[label_name].isnull() ].drop(['metro_dist', 'g_lift', 'build_tech', 'price', 'id'], axis=1).astype(\"float64\").values\n",
        "y_pre_test_train = model.predict(X_pre_test_train)\n",
        "train_df.loc[ train_df[label_name].isnull(), label_name ] = y_pre_test_train"
      ],
      "execution_count": 0,
      "outputs": []
    },
    {
      "cell_type": "code",
      "metadata": {
        "id": "3NeloQqsBkxf",
        "colab_type": "code",
        "colab": {}
      },
      "source": [
        "X_pre_test = test_df.loc[ test_df[label_name].isnull() ].drop(['metro_dist', 'g_lift', 'build_tech', 'id'], axis=1).astype(\"float64\").values\n",
        "y_pre_test = model.predict(X_pre_test)\n",
        "test_df.loc[ test_df[label_name].isnull(), label_name ] = y_pre_test"
      ],
      "execution_count": 0,
      "outputs": []
    },
    {
      "cell_type": "markdown",
      "metadata": {
        "id": "7G9kfDLZAwpv",
        "colab_type": "text"
      },
      "source": [
        "#***'metro_dist':***"
      ]
    },
    {
      "cell_type": "code",
      "metadata": {
        "id": "WUHnvNulAub6",
        "colab_type": "code",
        "outputId": "972b7e97-d43c-43c2-e1b4-ce38d89addd4",
        "colab": {
          "base_uri": "https://localhost:8080/",
          "height": 124
        }
      },
      "source": [
        "label_name = 'metro_dist'\n",
        "X_pre_data = np.concatenate( (train_df.loc[ ~train_df[label_name].isnull() ]\\\n",
        "                              .drop(['metro_dist', 'g_lift', 'build_tech', 'price', 'id'], axis = 1)\\\n",
        "                              .astype(\"float64\").values,\\\n",
        "                              test_df.loc[ ~test_df[label_name].isnull() ]\\\n",
        "                              .drop(['metro_dist', 'g_lift', 'build_tech', 'id'], axis = 1)\\\n",
        "                              .astype(int).values),\\\n",
        "                              axis=0)\n",
        "\n",
        "                    \n",
        "                  \n",
        "y_pre_data = np.concatenate( (train_df.loc[ ~train_df[label_name]\\\n",
        "                                      .isnull() ][label_name].astype(int).values,\n",
        "                              test_df.loc[ ~test_df[label_name]\\\n",
        "                                     .isnull() ][label_name].astype(int).values),\\\n",
        "                              axis=0)\n",
        "                              \n",
        "\n",
        "print('X_pre_train:\\nshape: ', X_pre_data.shape, '\\ndtype: ', X_pre_data.dtype)\n",
        "print('y_pre_train:\\nshape: ', y_pre_data.shape, '\\ndtype: ', y_pre_data.dtype)"
      ],
      "execution_count": 0,
      "outputs": [
        {
          "output_type": "stream",
          "text": [
            "X_pre_train:\n",
            "shape:  (190048, 20) \n",
            "dtype:  float64\n",
            "y_pre_train:\n",
            "shape:  (190048,) \n",
            "dtype:  int64\n"
          ],
          "name": "stdout"
        }
      ]
    },
    {
      "cell_type": "code",
      "metadata": {
        "id": "Kxz5Sr8-B3Ff",
        "colab_type": "code",
        "outputId": "914b9496-cf38-4350-885c-96828ed49611",
        "colab": {
          "base_uri": "https://localhost:8080/",
          "height": 35
        }
      },
      "source": [
        "#begin:\n",
        "t_before = time.time()\n",
        "\n",
        "X_train, X_val, y_train, y_val = train_test_split(X_pre_data, y_pre_data, test_size = 0.333, random_state=7)\n",
        "\n",
        "model = RandomForestClassifier(random_state=7)\n",
        "model.fit(X_train, y_train)\n",
        "y_pred = model.predict(X_val)\n",
        "\n",
        "acc_score = ACC(y_pred, y_val)\n",
        "f1_score  = F1(y_pred, y_val, average='weighted')\n",
        "\n",
        "model.fit(X_pre_data, y_pre_data)\n",
        "\n",
        "t_after = time.time()\n",
        "#end.\n",
        "\n",
        "print('acc_score:', \"%.3f\" % acc_score, '  ',\\\n",
        "      'f1_score:',  \"%.3f\" % f1_score, '  ',\\\n",
        "      'time:', \"%.2f\" % (t_after - t_before))"
      ],
      "execution_count": 0,
      "outputs": [
        {
          "output_type": "stream",
          "text": [
            "acc_score: 0.281    f1_score: 0.302    time: 6.67\n"
          ],
          "name": "stdout"
        }
      ]
    },
    {
      "cell_type": "code",
      "metadata": {
        "id": "Dapu1JjqCB2W",
        "colab_type": "code",
        "colab": {}
      },
      "source": [
        "X_pre_test_train = train_df.loc[ train_df[label_name].isnull() ].drop(['metro_dist', 'g_lift', 'build_tech', 'price', 'id'], axis=1).astype(\"float64\").values\n",
        "y_pre_test_train = model.predict(X_pre_test_train)\n",
        "train_df.loc[ train_df[label_name].isnull(), label_name ] = y_pre_test_train"
      ],
      "execution_count": 0,
      "outputs": []
    },
    {
      "cell_type": "code",
      "metadata": {
        "id": "ek7P3gp5CFJq",
        "colab_type": "code",
        "colab": {}
      },
      "source": [
        "X_pre_test = test_df.loc[ test_df[label_name].isnull() ].drop(['metro_dist', 'g_lift', 'build_tech', 'id'], axis=1).astype(\"float64\").values\n",
        "y_pre_test = model.predict(X_pre_test)\n",
        "test_df.loc[ test_df[label_name].isnull(), label_name ] = y_pre_test"
      ],
      "execution_count": 0,
      "outputs": []
    },
    {
      "cell_type": "markdown",
      "metadata": {
        "id": "_5bETXBiCHeR",
        "colab_type": "text"
      },
      "source": [
        "#***Сохраняем обновленные датасеты:***"
      ]
    },
    {
      "cell_type": "code",
      "metadata": {
        "id": "SCz4DOJ6CMtX",
        "colab_type": "code",
        "colab": {}
      },
      "source": [
        "train_df.to_csv(\"Train_plus.csv\", index=True)\n",
        "test_df.to_csv(\"Test_plus.csv\", index=True)\n",
        "\n",
        "from google.colab import files\n",
        "files.download('Train_plus.csv')\n",
        "files.download('Test_plus.csv')"
      ],
      "execution_count": 0,
      "outputs": []
    },
    {
      "cell_type": "markdown",
      "metadata": {
        "id": "j3bsSfaPCf2F",
        "colab_type": "text"
      },
      "source": [
        "#***Загружаем обновленные датасеты:***"
      ]
    },
    {
      "cell_type": "code",
      "metadata": {
        "id": "P9AoS890Copv",
        "colab_type": "code",
        "outputId": "df6e9c79-aaed-4781-adb3-b45f16a93cf5",
        "colab": {
          "base_uri": "https://localhost:8080/",
          "height": 214
        }
      },
      "source": [
        "import numpy as np\n",
        "import pandas as pd\n",
        "\n",
        "train_df = pd.read_csv('Train_plus.csv').drop(['Unnamed: 0'], axis=1)\n",
        "test_df  = pd.read_csv('Test_plus.csv').drop(['Unnamed: 0'], axis=1)\n",
        "\n",
        "train_df.head()"
      ],
      "execution_count": 0,
      "outputs": [
        {
          "output_type": "execute_result",
          "data": {
            "text/html": [
              "<div>\n",
              "<style scoped>\n",
              "    .dataframe tbody tr th:only-of-type {\n",
              "        vertical-align: middle;\n",
              "    }\n",
              "\n",
              "    .dataframe tbody tr th {\n",
              "        vertical-align: top;\n",
              "    }\n",
              "\n",
              "    .dataframe thead th {\n",
              "        text-align: right;\n",
              "    }\n",
              "</style>\n",
              "<table border=\"1\" class=\"dataframe\">\n",
              "  <thead>\n",
              "    <tr style=\"text-align: right;\">\n",
              "      <th></th>\n",
              "      <th>id</th>\n",
              "      <th>street_id</th>\n",
              "      <th>build_tech</th>\n",
              "      <th>floor</th>\n",
              "      <th>area</th>\n",
              "      <th>rooms</th>\n",
              "      <th>balcon</th>\n",
              "      <th>metro_dist</th>\n",
              "      <th>g_lift</th>\n",
              "      <th>n_photos</th>\n",
              "      <th>kw1</th>\n",
              "      <th>kw2</th>\n",
              "      <th>kw3</th>\n",
              "      <th>kw4</th>\n",
              "      <th>kw5</th>\n",
              "      <th>kw6</th>\n",
              "      <th>kw7</th>\n",
              "      <th>kw8</th>\n",
              "      <th>kw9</th>\n",
              "      <th>kw10</th>\n",
              "      <th>kw11</th>\n",
              "      <th>kw12</th>\n",
              "      <th>kw13</th>\n",
              "      <th>price</th>\n",
              "      <th>time</th>\n",
              "    </tr>\n",
              "  </thead>\n",
              "  <tbody>\n",
              "    <tr>\n",
              "      <th>0</th>\n",
              "      <td>0</td>\n",
              "      <td>531</td>\n",
              "      <td>1.0</td>\n",
              "      <td>12</td>\n",
              "      <td>35</td>\n",
              "      <td>1</td>\n",
              "      <td>1</td>\n",
              "      <td>25.0</td>\n",
              "      <td>0.0</td>\n",
              "      <td>1</td>\n",
              "      <td>0</td>\n",
              "      <td>1</td>\n",
              "      <td>0</td>\n",
              "      <td>0</td>\n",
              "      <td>0</td>\n",
              "      <td>0</td>\n",
              "      <td>0</td>\n",
              "      <td>0</td>\n",
              "      <td>0</td>\n",
              "      <td>0</td>\n",
              "      <td>0</td>\n",
              "      <td>0</td>\n",
              "      <td>0</td>\n",
              "      <td>3721000</td>\n",
              "      <td>129384000.0</td>\n",
              "    </tr>\n",
              "    <tr>\n",
              "      <th>1</th>\n",
              "      <td>1</td>\n",
              "      <td>385</td>\n",
              "      <td>2.0</td>\n",
              "      <td>15</td>\n",
              "      <td>46</td>\n",
              "      <td>1</td>\n",
              "      <td>2</td>\n",
              "      <td>15.0</td>\n",
              "      <td>1.0</td>\n",
              "      <td>1</td>\n",
              "      <td>0</td>\n",
              "      <td>0</td>\n",
              "      <td>0</td>\n",
              "      <td>0</td>\n",
              "      <td>0</td>\n",
              "      <td>0</td>\n",
              "      <td>0</td>\n",
              "      <td>0</td>\n",
              "      <td>0</td>\n",
              "      <td>0</td>\n",
              "      <td>0</td>\n",
              "      <td>0</td>\n",
              "      <td>0</td>\n",
              "      <td>7431000</td>\n",
              "      <td>129384000.0</td>\n",
              "    </tr>\n",
              "    <tr>\n",
              "      <th>2</th>\n",
              "      <td>2</td>\n",
              "      <td>51</td>\n",
              "      <td>0.0</td>\n",
              "      <td>1</td>\n",
              "      <td>53</td>\n",
              "      <td>3</td>\n",
              "      <td>0</td>\n",
              "      <td>30.0</td>\n",
              "      <td>0.0</td>\n",
              "      <td>7</td>\n",
              "      <td>0</td>\n",
              "      <td>1</td>\n",
              "      <td>0</td>\n",
              "      <td>0</td>\n",
              "      <td>0</td>\n",
              "      <td>0</td>\n",
              "      <td>0</td>\n",
              "      <td>0</td>\n",
              "      <td>0</td>\n",
              "      <td>0</td>\n",
              "      <td>0</td>\n",
              "      <td>0</td>\n",
              "      <td>0</td>\n",
              "      <td>3081000</td>\n",
              "      <td>129384000.0</td>\n",
              "    </tr>\n",
              "    <tr>\n",
              "      <th>3</th>\n",
              "      <td>3</td>\n",
              "      <td>76</td>\n",
              "      <td>0.0</td>\n",
              "      <td>1</td>\n",
              "      <td>60</td>\n",
              "      <td>3</td>\n",
              "      <td>0</td>\n",
              "      <td>30.0</td>\n",
              "      <td>0.0</td>\n",
              "      <td>2</td>\n",
              "      <td>0</td>\n",
              "      <td>0</td>\n",
              "      <td>0</td>\n",
              "      <td>0</td>\n",
              "      <td>0</td>\n",
              "      <td>0</td>\n",
              "      <td>0</td>\n",
              "      <td>0</td>\n",
              "      <td>0</td>\n",
              "      <td>0</td>\n",
              "      <td>0</td>\n",
              "      <td>0</td>\n",
              "      <td>0</td>\n",
              "      <td>3847000</td>\n",
              "      <td>129384000.0</td>\n",
              "    </tr>\n",
              "    <tr>\n",
              "      <th>4</th>\n",
              "      <td>4</td>\n",
              "      <td>114</td>\n",
              "      <td>0.0</td>\n",
              "      <td>2</td>\n",
              "      <td>43</td>\n",
              "      <td>2</td>\n",
              "      <td>0</td>\n",
              "      <td>30.0</td>\n",
              "      <td>0.0</td>\n",
              "      <td>1</td>\n",
              "      <td>0</td>\n",
              "      <td>1</td>\n",
              "      <td>0</td>\n",
              "      <td>0</td>\n",
              "      <td>0</td>\n",
              "      <td>0</td>\n",
              "      <td>0</td>\n",
              "      <td>0</td>\n",
              "      <td>0</td>\n",
              "      <td>0</td>\n",
              "      <td>0</td>\n",
              "      <td>0</td>\n",
              "      <td>0</td>\n",
              "      <td>2323000</td>\n",
              "      <td>129384000.0</td>\n",
              "    </tr>\n",
              "  </tbody>\n",
              "</table>\n",
              "</div>"
            ],
            "text/plain": [
              "   id  street_id  build_tech  floor  ...  kw12  kw13    price         time\n",
              "0   0        531         1.0     12  ...     0     0  3721000  129384000.0\n",
              "1   1        385         2.0     15  ...     0     0  7431000  129384000.0\n",
              "2   2         51         0.0      1  ...     0     0  3081000  129384000.0\n",
              "3   3         76         0.0      1  ...     0     0  3847000  129384000.0\n",
              "4   4        114         0.0      2  ...     0     0  2323000  129384000.0\n",
              "\n",
              "[5 rows x 25 columns]"
            ]
          },
          "metadata": {
            "tags": []
          },
          "execution_count": 8
        }
      ]
    },
    {
      "cell_type": "code",
      "metadata": {
        "id": "WZ3FDDvdEzqZ",
        "colab_type": "code",
        "outputId": "261fbe18-dec4-4524-8422-892cadd11feb",
        "colab": {
          "base_uri": "https://localhost:8080/",
          "height": 177
        }
      },
      "source": [
        "X_data = train_df.drop(['price', 'id'], axis = 1).astype(\"float64\").values\n",
        "y_data = train_df['price'].astype(\"float64\").values\n",
        "X_test = test_df.drop(['id'], axis = 1).astype(\"float64\").values\n",
        "\n",
        "print('X_train:\\nshape: ', X_data.shape, '\\ndtype: ', X_data.dtype)\n",
        "print('y_train:\\nshape: ', y_data.shape, '\\ndtype: ', y_data.dtype)\n",
        "print('X_test:\\nshape: ', X_test.shape, '\\ndtype: ', X_test.dtype)"
      ],
      "execution_count": 0,
      "outputs": [
        {
          "output_type": "stream",
          "text": [
            "X_train:\n",
            "shape:  (100000, 23) \n",
            "dtype:  float64\n",
            "y_train:\n",
            "shape:  (100000,) \n",
            "dtype:  float64\n",
            "X_test:\n",
            "shape:  (100000, 23) \n",
            "dtype:  float64\n"
          ],
          "name": "stdout"
        }
      ]
    },
    {
      "cell_type": "markdown",
      "metadata": {
        "id": "g8_n6t7w7Hwb",
        "colab_type": "text"
      },
      "source": [
        "#***Features инженеринг:*** (игнорировать)"
      ]
    },
    {
      "cell_type": "code",
      "metadata": {
        "id": "3x5x3qM28j3O",
        "colab_type": "code",
        "colab": {}
      },
      "source": [
        "for i in range(1,13):\n",
        "  for j in range(i+1,14):\n",
        "    proc_train_df['kw'+str(i)+'_'+str(j)] = proc_train_df['kw'+str(i)] * proc_train_df['kw'+str(j)]\n",
        "    proc_test_df['kw'+str(i)+'_'+str(j)]  = proc_test_df['kw'+str(i)]  * proc_test_df['kw'+str(j)]"
      ],
      "execution_count": 0,
      "outputs": []
    },
    {
      "cell_type": "code",
      "metadata": {
        "id": "MWqUrY4o8nqq",
        "colab_type": "code",
        "outputId": "7a698cc7-e389-4d8e-b9bb-e2fda4677d70",
        "colab": {
          "base_uri": "https://localhost:8080/",
          "height": 177
        }
      },
      "source": [
        "X_data = proc_train_df.drop(['price', 'id'], axis = 1).astype(\"float64\").values\n",
        "y_data = proc_train_df['price'].astype(\"float64\").values\n",
        "X_test = proc_test_df.drop(['id'], axis = 1).astype(\"float64\").values\n",
        "\n",
        "print('X_train:\\nshape: ', X_data.shape, '\\ndtype: ', X_data.dtype)\n",
        "print('y_train:\\nshape: ', y_data.shape, '\\ndtype: ', y_data.dtype)\n",
        "print('X_test:\\nshape: ', X_test.shape, '\\ndtype: ', X_test.dtype)"
      ],
      "execution_count": 0,
      "outputs": [
        {
          "output_type": "stream",
          "text": [
            "X_train:\n",
            "shape:  (100000, 101) \n",
            "dtype:  float64\n",
            "y_train:\n",
            "shape:  (100000,) \n",
            "dtype:  float64\n",
            "X_test:\n",
            "shape:  (100000, 101) \n",
            "dtype:  float64\n"
          ],
          "name": "stdout"
        }
      ]
    },
    {
      "cell_type": "code",
      "metadata": {
        "id": "39MCbNLB8wLi",
        "colab_type": "code",
        "outputId": "ec699bdc-e8e8-422a-c81f-328a67a16d78",
        "colab": {
          "base_uri": "https://localhost:8080/",
          "height": 35
        }
      },
      "source": [
        "#MAE: 11.3953 *23\n",
        "#MAE: 11.5778 *101\n",
        "\n",
        "#begin:\n",
        "t_before = time.time()\n",
        "X_train, X_val, y_train, y_val = train_test_split(X_data, y_data, test_size = 0.333, random_state=7)\n",
        "\n",
        "model = GradientBoostingRegressor(learning_rate=0.9)\n",
        "\n",
        "model.fit(X_train, y_train)\n",
        "y_pred = model.predict(X_val)\n",
        "\n",
        "mae_score = MAE(y_pred, y_val)\n",
        "t_after = time.time()\n",
        "#end.\n",
        "\n",
        "print('MAE_score = ', \"%.4f\" % (mae_score / 100000),\\\n",
        "      '  time:', \"%.2f\" % (t_after-t_before),'s')"
      ],
      "execution_count": 0,
      "outputs": [
        {
          "output_type": "stream",
          "text": [
            "MAE_score =  11.5778   time: 38.03 s\n"
          ],
          "name": "stdout"
        }
      ]
    },
    {
      "cell_type": "code",
      "metadata": {
        "id": "a4Dt0mWg7RB4",
        "colab_type": "code",
        "colab": {}
      },
      "source": [
        "#MAE: 11.3953 *23\n",
        "#MAE: 11.5778 *101\n",
        "\n",
        "#score_history_without_columns = pd.DataFrame()\n",
        "\n",
        "for epoch in range(70):\n",
        "  min_mae = 999999999.999\n",
        "  num_col = 0\n",
        "  for column in range(X_data.shape[1]):\n",
        "      #begin:\n",
        "      t_before = time.time()\n",
        "      X_data_tmp = np.delete(X_data, column, 1)\n",
        "      X_train, X_val, y_train, y_val = train_test_split(X_data_tmp, y_data, test_size = 0.333, random_state=7)\n",
        "      y_data_tmp = y_data\n",
        "\n",
        "      model = GradientBoostingRegressor(learning_rate=0.9)\n",
        "      \n",
        "      model.fit(X_train, y_train)\n",
        "      y_pred = model.predict(X_val)\n",
        "      \n",
        "      mae_score = MAE(y_pred, y_val)\n",
        "      t_after = time.time()\n",
        "      #end.\n",
        "\n",
        "      if mae_score < min_mae:\n",
        "        min_mae = mae_score\n",
        "        num_col = column\n",
        "\n",
        "      print('MAE_cross = ', \"%.4f\" % (mae_score / 100000),\\\n",
        "            '  column:', column, '  X.shape:', X_data.shape[1],\\\n",
        "            '  min_mae:', \"%.4f\" % (min_mae / 100000), '  num_col:', num_col,\\\n",
        "            '  time:', \"%.2f\" % (t_after-t_before),'s')\n",
        "\n",
        "  X_data = np.delete(X_data, num_col, 1)\n",
        "    \n",
        "  tmp_df = pd.DataFrame({'MAE_score': [min_mae / 100000], 'column': [num_col]})\n",
        "  score_history_without_columns = score_history_without_columns.append(tmp_df)"
      ],
      "execution_count": 0,
      "outputs": []
    },
    {
      "cell_type": "code",
      "metadata": {
        "id": "7m5TfbmH-FRr",
        "colab_type": "code",
        "colab": {}
      },
      "source": [
        "score_history_without_columns.to_csv(\"score_history_without_columns_(GB).csv\", index=True)\n",
        "\n",
        "from google.colab import files\n",
        "files.download('score_history_without_columns_(GB).csv')"
      ],
      "execution_count": 0,
      "outputs": []
    },
    {
      "cell_type": "code",
      "metadata": {
        "id": "ByLXy0ZHG7lR",
        "colab_type": "code",
        "outputId": "a8fb4367-a6ad-44a2-e058-32524792dd62",
        "colab": {
          "base_uri": "https://localhost:8080/",
          "height": 164
        }
      },
      "source": [
        "score_history_without_columns"
      ],
      "execution_count": 0,
      "outputs": [
        {
          "output_type": "execute_result",
          "data": {
            "text/html": [
              "<div>\n",
              "<style scoped>\n",
              "    .dataframe tbody tr th:only-of-type {\n",
              "        vertical-align: middle;\n",
              "    }\n",
              "\n",
              "    .dataframe tbody tr th {\n",
              "        vertical-align: top;\n",
              "    }\n",
              "\n",
              "    .dataframe thead th {\n",
              "        text-align: right;\n",
              "    }\n",
              "</style>\n",
              "<table border=\"1\" class=\"dataframe\">\n",
              "  <thead>\n",
              "    <tr style=\"text-align: right;\">\n",
              "      <th></th>\n",
              "      <th>MAE_score</th>\n",
              "      <th>column</th>\n",
              "    </tr>\n",
              "  </thead>\n",
              "  <tbody>\n",
              "    <tr>\n",
              "      <th>0</th>\n",
              "      <td>11.392075</td>\n",
              "      <td>8</td>\n",
              "    </tr>\n",
              "    <tr>\n",
              "      <th>0</th>\n",
              "      <td>11.117040</td>\n",
              "      <td>2</td>\n",
              "    </tr>\n",
              "    <tr>\n",
              "      <th>0</th>\n",
              "      <td>11.074891</td>\n",
              "      <td>16</td>\n",
              "    </tr>\n",
              "    <tr>\n",
              "      <th>0</th>\n",
              "      <td>11.072250</td>\n",
              "      <td>64</td>\n",
              "    </tr>\n",
              "  </tbody>\n",
              "</table>\n",
              "</div>"
            ],
            "text/plain": [
              "   MAE_score  column\n",
              "0  11.392075       8\n",
              "0  11.117040       2\n",
              "0  11.074891      16\n",
              "0  11.072250      64"
            ]
          },
          "metadata": {
            "tags": []
          },
          "execution_count": 63
        }
      ]
    },
    {
      "cell_type": "code",
      "metadata": {
        "id": "qMk-O16nDtk_",
        "colab_type": "code",
        "colab": {}
      },
      "source": [
        "#MAE: 11.3953 *23\n",
        "#MAE: 11.5787 *101\n",
        "\n",
        "score_history_with_usage_func = pd.DataFrame()\n",
        "\n",
        "for column in range(X_data.shape[1]):\n",
        "    #begin:\n",
        "    t_before = time.time()\n",
        "    X_data_tmp = X_data.copy()\n",
        "    X_data_tmp[:,column] = (X_data_tmp[:,column]**(1/2))\n",
        "    X_train, X_val, y_train, y_val = train_test_split(X_data_tmp, y_data, test_size = 0.333, random_state=7)\n",
        "\n",
        "    model = GradientBoostingRegressor(learning_rate=0.9)\n",
        "    \n",
        "    model.fit(X_train, y_train)\n",
        "    y_pred = model.predict(X_val)\n",
        "    \n",
        "    #mae_score = cross_val_score(model, X_data_tmp, y_data, cv=5, scoring=make_scorer(MAE)).mean()\n",
        "    mae_score = MAE(y_pred, y_val)\n",
        "    t_after = time.time()\n",
        "    #end.\n",
        "\n",
        "    print('MAE_score = ', \"%.4f\" % (mae_score / 100000),\\\n",
        "          '  time:', \"%.2f\" % (t_after-t_before),'s', '   №_col:', column)\n",
        "    \n",
        "    tmp_df = pd.DataFrame({'MAE_score': [mae_score], 'column': [column]})\n",
        "    score_history_with_usage_func = score_history_without_columns.append(tmp_df)"
      ],
      "execution_count": 0,
      "outputs": []
    },
    {
      "cell_type": "code",
      "metadata": {
        "id": "Na-ic3melXwO",
        "colab_type": "code",
        "outputId": "8fcaae8a-9bc5-42e6-8206-93e0bad39062",
        "colab": {
          "base_uri": "https://localhost:8080/",
          "height": 70
        }
      },
      "source": [
        "print('X_test:\\n', X_test.shape)\n",
        "\n",
        "for column in score_history_without_columns.column:\n",
        "  X_test = np.delete(X_test, column, 1)\n",
        "\n",
        "print(X_test.shape)"
      ],
      "execution_count": 0,
      "outputs": [
        {
          "output_type": "stream",
          "text": [
            "X_test:\n",
            " (100000, 101)\n",
            "(100000, 96)\n"
          ],
          "name": "stdout"
        }
      ]
    },
    {
      "cell_type": "code",
      "metadata": {
        "id": "zEfGCqr-A6Py",
        "colab_type": "code",
        "colab": {}
      },
      "source": [
        "score_history_without_columns.to_csv(\"score_history_without_columns_(GB).csv\", index=True)\n",
        "\n",
        "from google.colab import files\n",
        "files.download('score_history_without_columns_(GB).csv')"
      ],
      "execution_count": 0,
      "outputs": []
    },
    {
      "cell_type": "markdown",
      "metadata": {
        "id": "3f0KB4Y5MUCv",
        "colab_type": "text"
      },
      "source": [
        "#***Обучение и подбор параметров модели:*** (игнорировать)"
      ]
    },
    {
      "cell_type": "code",
      "metadata": {
        "id": "AHJrqJDNXnL3",
        "colab_type": "code",
        "outputId": "e2e58229-5274-4a95-fbf3-e2a5edb2c221",
        "colab": {
          "base_uri": "https://localhost:8080/",
          "height": 52
        }
      },
      "source": [
        "#begin:\n",
        "t_before_fit = time.time()\n",
        "\n",
        "model = GradientBoostingRegressor(learning_rate=0.9)\n",
        "model.fit(X_train, y_train)\n",
        "\n",
        "y_pred = model.predict(X_val)\n",
        "\n",
        "mae_score = MAE(y_pred, y_val)\n",
        "\n",
        "#mae_cross_val_score = cross_val_score(model, X_data, y_data, cv=5, scoring=make_scorer(MAE)).mean()\n",
        "\n",
        "t_after_fit = time.time()\n",
        "#end.\n",
        "      \n",
        "print('MAE_cvs: ', \"%.2f\" % (mae_score/100000), '\\n',\\\n",
        "      'time:  ', \"%.2f\" % (t_after_fit - t_before_fit),'s')"
      ],
      "execution_count": 0,
      "outputs": [
        {
          "output_type": "stream",
          "text": [
            "MAE_cvs:  11.39 \n",
            " time:   11.03 s\n"
          ],
          "name": "stdout"
        }
      ]
    },
    {
      "cell_type": "code",
      "metadata": {
        "id": "GKzi5pg8E3cv",
        "colab_type": "code",
        "outputId": "5fd5eb65-8f72-4c5c-afb2-9fe31ee703c6",
        "colab": {
          "base_uri": "https://localhost:8080/",
          "height": 35
        }
      },
      "source": [
        "#lr=0.12, n_ext=11000: mae=7.27, mae:7.22\n",
        "#begin:\n",
        "t_before_fit = time.time()\n",
        "\n",
        "model = GradientBoostingRegressor(learning_rate=1)\n",
        "model.fit(X_train, y_train)\n",
        "\n",
        "y_pred = model.predict(X_val)\n",
        "\n",
        "mae_score = MAE(y_pred, y_val)\n",
        "\n",
        "#mae_cross_val_score = cross_val_score(model, X_data, y_data, cv=5, scoring=make_scorer(MAE)).mean()\n",
        "\n",
        "t_after_fit = time.time()\n",
        "#end.\n",
        "      \n",
        "print('MAE_cvs: ', \"%.2f\" % (mae_score/100000), '  ',\\\n",
        "      'time:  ', \"%.2f\" % (t_after_fit - t_before_fit),'s')"
      ],
      "execution_count": 0,
      "outputs": [
        {
          "output_type": "stream",
          "text": [
            "MAE_cvs:  11.52    time:   6.00 s\n"
          ],
          "name": "stdout"
        }
      ]
    },
    {
      "cell_type": "code",
      "metadata": {
        "id": "LwO4nIfjjUit",
        "colab_type": "code",
        "outputId": "471d4864-3ad5-4c89-dca3-138b09a83a37",
        "colab": {
          "base_uri": "https://localhost:8080/",
          "height": 35
        }
      },
      "source": [
        "#lr=0.12, n_ext=11000: mae=\n",
        "X_train, X_val, y_train, y_val = train_test_split(X_data, y_data, test_size = 0.333, random_state=7)\n",
        "\n",
        "#begin:\n",
        "t_before_fit = time.time()\n",
        "\n",
        "lr = 0.9\n",
        "n_est = 1000\n",
        "\n",
        "model = GradientBoostingRegressor(learning_rate=lr)#, n_estimators=n_est)\n",
        "model.fit(X_train, y_train)\n",
        "\n",
        "y_pred = model.predict(X_val)\n",
        "\n",
        "mae_score = MAE(y_pred, y_val)\n",
        "\n",
        "t_after_fit = time.time()\n",
        "#end.\n",
        "      \n",
        "print('n_estimators:', n_est, '  ',\\\n",
        "      'MAE_cvs:', \"%.2f\" % (mae_score/100000), '  ',\\\n",
        "      'time:', \"%.2f\" % (t_after_fit - t_before_fit),'s')\n",
        "#print()"
      ],
      "execution_count": 0,
      "outputs": [
        {
          "output_type": "stream",
          "text": [
            "n_estimators: 1000    MAE_cvs: 11.39    time: 7.26 s\n"
          ],
          "name": "stdout"
        }
      ]
    },
    {
      "cell_type": "code",
      "metadata": {
        "id": "aqEQ-pA9vkU1",
        "colab_type": "code",
        "outputId": "9a9e20c6-b7dd-40b6-ce73-a22865d59d99",
        "colab": {
          "base_uri": "https://localhost:8080/",
          "height": 88
        }
      },
      "source": [
        "#lr=0.12, n_ext=11000: mae=7.27\n",
        "X_train, X_val, y_train, y_val = train_test_split(X_data, y_data, test_size = 0.333, random_state=7)\n",
        "\n",
        "for lose_name in ['ls','lad','huber','quantile']:\n",
        "  \n",
        "  #begin:\n",
        "  t_before_fit = time.time()\n",
        "\n",
        "  lr = 0.5\n",
        "  n_est = 1000\n",
        "  #loss_name = i\n",
        "\n",
        "  model = GradientBoostingRegressor(learning_rate=lr,\\\n",
        "                                    n_estimators=n_est,\\\n",
        "                                    loss=lose_name,\n",
        "                                    random_state = 7)\n",
        "  model.fit(X_train, y_train)\n",
        "\n",
        "  y_pred = model.predict(X_val)\n",
        "\n",
        "  mae_score = MAE(y_pred, y_val)\n",
        "\n",
        "  t_after_fit = time.time()\n",
        "  #end.\n",
        "        \n",
        "  print('lose_name:', lose_name, '  ',\\\n",
        "        'MAE_cvs:', \"%.2f\" % (mae_score/100000), '  ',\\\n",
        "        'time:', \"%.2f\" % (t_after_fit - t_before_fit),'s')\n",
        "  #print()"
      ],
      "execution_count": 0,
      "outputs": [
        {
          "output_type": "stream",
          "text": [
            "lose_name: ls    MAE_cvs: 7.80    time: 78.73 s\n",
            "lose_name: lad    MAE_cvs: 8.27    time: 81.93 s\n",
            "lose_name: huber    MAE_cvs: 7.32    time: 98.95 s\n",
            "lose_name: quantile    MAE_cvs: 17.09    time: 75.35 s\n"
          ],
          "name": "stdout"
        }
      ]
    },
    {
      "cell_type": "code",
      "metadata": {
        "id": "KPQmNWpCGz-o",
        "colab_type": "code",
        "outputId": "6e2366c5-4a62-431a-d13d-c5109d1feaa3",
        "colab": {
          "base_uri": "https://localhost:8080/",
          "height": 88
        }
      },
      "source": [
        "#lr=0.12, n_ext=11000: mae=7.27\n",
        "X_train, X_val, y_train, y_val = train_test_split(X_data, y_data, test_size = 0.333, random_state=7)\n",
        "\n",
        "for lose_name in ['ls','lad','huber','quantile']:\n",
        "  \n",
        "  #begin:\n",
        "  t_before_fit = time.time()\n",
        "\n",
        "  lr = 0.5\n",
        "  n_est = 1000\n",
        "  #loss_name = i\n",
        "\n",
        "  model = GradientBoostingRegressor(learning_rate=lr,\\\n",
        "                                    n_estimators=n_est,\\\n",
        "                                    loss=lose_name,\n",
        "                                    random_state = 7)\n",
        "  model.fit(X_train, y_train)\n",
        "\n",
        "  y_pred = model.predict(X_val)\n",
        "\n",
        "  mae_score = MAE(y_pred, y_val)\n",
        "\n",
        "  t_after_fit = time.time()\n",
        "  #end.\n",
        "        \n",
        "  print('lose_name:', lose_name, '  ',\\\n",
        "        'MAE_cvs:', \"%.2f\" % (mae_score/100000), '  ',\\\n",
        "        'time:', \"%.2f\" % (t_after_fit - t_before_fit),'s')\n",
        "  #print()"
      ],
      "execution_count": 0,
      "outputs": [
        {
          "output_type": "stream",
          "text": [
            "lose_name: ls    MAE_cvs: 7.67    time: 57.41 s\n",
            "lose_name: lad    MAE_cvs: 8.15    time: 67.65 s\n",
            "lose_name: huber    MAE_cvs: 7.20    time: 83.76 s\n",
            "lose_name: quantile    MAE_cvs: 15.87    time: 61.72 s\n"
          ],
          "name": "stdout"
        }
      ]
    },
    {
      "cell_type": "code",
      "metadata": {
        "id": "0EMx8LjlSfgC",
        "colab_type": "code",
        "outputId": "4339f99b-21d2-4182-f876-f9cfc939cff8",
        "colab": {
          "base_uri": "https://localhost:8080/",
          "height": 496
        }
      },
      "source": [
        "#X_train, X_val, y_train, y_val = train_test_split(X_data, y_data, test_size = 0.333, random_state=7)\n",
        "\n",
        "history_score = pd.DataFrame()\n",
        "\n",
        "n_est = 4000\n",
        "for i in range(10,-1,-1):\n",
        "\n",
        "\n",
        "  left = 0.23\n",
        "  right = 0.32\n",
        "  lr = (1-i/10)*(right-left) + left\n",
        "\n",
        "  #begin:\n",
        "  t_before_fit = time.time()\n",
        "\n",
        "\n",
        "  model = GradientBoostingRegressor(learning_rate=lr,\\\n",
        "                                    n_estimators=n_est,\\\n",
        "                                    loss='huber',\n",
        "                                    random_state=7)\n",
        "  model.fit(X_train, y_train)\n",
        "\n",
        "  y_pred = model.predict(X_val)\n",
        "\n",
        "  mae_score = MAE(y_pred, y_val)\n",
        "\n",
        "  t_after_fit = time.time()\n",
        "  #end.\n",
        "\n",
        "  tmp_df = pd.DataFrame({'MAE': [mae_score],\\\n",
        "                          'learning_rate': [lr],\\\n",
        "                          'n_estimators': [n_est]})\n",
        "  \n",
        "  history_score = history_score.append(tmp_df)\n",
        "\n",
        "  print('n_est:', n_est, '   ',\\\n",
        "        'lr:', \"%.2f\" % lr, '   ',\\\n",
        "        'MAE_cvs:', \"%.2f\" % (mae_score/100000), '   ',\\\n",
        "        'time:', \"%.2f\" % (t_after_fit - t_before_fit),'s')"
      ],
      "execution_count": 0,
      "outputs": [
        {
          "output_type": "stream",
          "text": [
            "n_est: 4000     lr: 0.23     MAE_cvs: 6.90     time: 395.20 s\n",
            "n_est: 4000     lr: 0.24     MAE_cvs: 6.92     time: 377.99 s\n",
            "n_est: 4000     lr: 0.25     MAE_cvs: 7.03     time: 387.21 s\n",
            "n_est: 4000     lr: 0.26     MAE_cvs: 7.26     time: 411.21 s\n",
            "n_est: 4000     lr: 0.27     MAE_cvs: 7.04     time: 408.31 s\n"
          ],
          "name": "stdout"
        },
        {
          "output_type": "error",
          "ename": "KeyboardInterrupt",
          "evalue": "ignored",
          "traceback": [
            "\u001b[0;31m---------------------------------------------------------------------------\u001b[0m",
            "\u001b[0;31mKeyboardInterrupt\u001b[0m                         Traceback (most recent call last)",
            "\u001b[0;32m<ipython-input-33-f4f16f3f385e>\u001b[0m in \u001b[0;36m<module>\u001b[0;34m()\u001b[0m\n\u001b[1;32m     16\u001b[0m   model = GradientBoostingRegressor(learning_rate=lr,                                    n_estimators=n_est,                                    loss='huber',\n\u001b[1;32m     17\u001b[0m                                     random_state=7)\n\u001b[0;32m---> 18\u001b[0;31m   \u001b[0mmodel\u001b[0m\u001b[0;34m.\u001b[0m\u001b[0mfit\u001b[0m\u001b[0;34m(\u001b[0m\u001b[0mX_train\u001b[0m\u001b[0;34m,\u001b[0m \u001b[0my_train\u001b[0m\u001b[0;34m)\u001b[0m\u001b[0;34m\u001b[0m\u001b[0;34m\u001b[0m\u001b[0m\n\u001b[0m\u001b[1;32m     19\u001b[0m \u001b[0;34m\u001b[0m\u001b[0m\n\u001b[1;32m     20\u001b[0m   \u001b[0my_pred\u001b[0m \u001b[0;34m=\u001b[0m \u001b[0mmodel\u001b[0m\u001b[0;34m.\u001b[0m\u001b[0mpredict\u001b[0m\u001b[0;34m(\u001b[0m\u001b[0mX_val\u001b[0m\u001b[0;34m)\u001b[0m\u001b[0;34m\u001b[0m\u001b[0;34m\u001b[0m\u001b[0m\n",
            "\u001b[0;32m/usr/local/lib/python3.6/dist-packages/sklearn/ensemble/gradient_boosting.py\u001b[0m in \u001b[0;36mfit\u001b[0;34m(self, X, y, sample_weight, monitor)\u001b[0m\n\u001b[1;32m   1544\u001b[0m         n_stages = self._fit_stages(\n\u001b[1;32m   1545\u001b[0m             \u001b[0mX\u001b[0m\u001b[0;34m,\u001b[0m \u001b[0my\u001b[0m\u001b[0;34m,\u001b[0m \u001b[0mraw_predictions\u001b[0m\u001b[0;34m,\u001b[0m \u001b[0msample_weight\u001b[0m\u001b[0;34m,\u001b[0m \u001b[0mself\u001b[0m\u001b[0;34m.\u001b[0m\u001b[0m_rng\u001b[0m\u001b[0;34m,\u001b[0m \u001b[0mX_val\u001b[0m\u001b[0;34m,\u001b[0m \u001b[0my_val\u001b[0m\u001b[0;34m,\u001b[0m\u001b[0;34m\u001b[0m\u001b[0;34m\u001b[0m\u001b[0m\n\u001b[0;32m-> 1546\u001b[0;31m             sample_weight_val, begin_at_stage, monitor, X_idx_sorted)\n\u001b[0m\u001b[1;32m   1547\u001b[0m \u001b[0;34m\u001b[0m\u001b[0m\n\u001b[1;32m   1548\u001b[0m         \u001b[0;31m# change shape of arrays after fit (early-stopping or additional ests)\u001b[0m\u001b[0;34m\u001b[0m\u001b[0;34m\u001b[0m\u001b[0;34m\u001b[0m\u001b[0m\n",
            "\u001b[0;32m/usr/local/lib/python3.6/dist-packages/sklearn/ensemble/gradient_boosting.py\u001b[0m in \u001b[0;36m_fit_stages\u001b[0;34m(self, X, y, raw_predictions, sample_weight, random_state, X_val, y_val, sample_weight_val, begin_at_stage, monitor, X_idx_sorted)\u001b[0m\n\u001b[1;32m   1608\u001b[0m             raw_predictions = self._fit_stage(\n\u001b[1;32m   1609\u001b[0m                 \u001b[0mi\u001b[0m\u001b[0;34m,\u001b[0m \u001b[0mX\u001b[0m\u001b[0;34m,\u001b[0m \u001b[0my\u001b[0m\u001b[0;34m,\u001b[0m \u001b[0mraw_predictions\u001b[0m\u001b[0;34m,\u001b[0m \u001b[0msample_weight\u001b[0m\u001b[0;34m,\u001b[0m \u001b[0msample_mask\u001b[0m\u001b[0;34m,\u001b[0m\u001b[0;34m\u001b[0m\u001b[0;34m\u001b[0m\u001b[0m\n\u001b[0;32m-> 1610\u001b[0;31m                 random_state, X_idx_sorted, X_csc, X_csr)\n\u001b[0m\u001b[1;32m   1611\u001b[0m \u001b[0;34m\u001b[0m\u001b[0m\n\u001b[1;32m   1612\u001b[0m             \u001b[0;31m# track deviance (= loss)\u001b[0m\u001b[0;34m\u001b[0m\u001b[0;34m\u001b[0m\u001b[0;34m\u001b[0m\u001b[0m\n",
            "\u001b[0;32m/usr/local/lib/python3.6/dist-packages/sklearn/ensemble/gradient_boosting.py\u001b[0m in \u001b[0;36m_fit_stage\u001b[0;34m(self, i, X, y, raw_predictions, sample_weight, sample_mask, random_state, X_idx_sorted, X_csc, X_csr)\u001b[0m\n\u001b[1;32m   1242\u001b[0m             \u001b[0mX\u001b[0m \u001b[0;34m=\u001b[0m \u001b[0mX_csr\u001b[0m \u001b[0;32mif\u001b[0m \u001b[0mX_csr\u001b[0m \u001b[0;32mis\u001b[0m \u001b[0;32mnot\u001b[0m \u001b[0;32mNone\u001b[0m \u001b[0;32melse\u001b[0m \u001b[0mX\u001b[0m\u001b[0;34m\u001b[0m\u001b[0;34m\u001b[0m\u001b[0m\n\u001b[1;32m   1243\u001b[0m             tree.fit(X, residual, sample_weight=sample_weight,\n\u001b[0;32m-> 1244\u001b[0;31m                      check_input=False, X_idx_sorted=X_idx_sorted)\n\u001b[0m\u001b[1;32m   1245\u001b[0m \u001b[0;34m\u001b[0m\u001b[0m\n\u001b[1;32m   1246\u001b[0m             \u001b[0;31m# update tree leaves\u001b[0m\u001b[0;34m\u001b[0m\u001b[0;34m\u001b[0m\u001b[0;34m\u001b[0m\u001b[0m\n",
            "\u001b[0;32m/usr/local/lib/python3.6/dist-packages/sklearn/tree/tree.py\u001b[0m in \u001b[0;36mfit\u001b[0;34m(self, X, y, sample_weight, check_input, X_idx_sorted)\u001b[0m\n\u001b[1;32m   1155\u001b[0m             \u001b[0msample_weight\u001b[0m\u001b[0;34m=\u001b[0m\u001b[0msample_weight\u001b[0m\u001b[0;34m,\u001b[0m\u001b[0;34m\u001b[0m\u001b[0;34m\u001b[0m\u001b[0m\n\u001b[1;32m   1156\u001b[0m             \u001b[0mcheck_input\u001b[0m\u001b[0;34m=\u001b[0m\u001b[0mcheck_input\u001b[0m\u001b[0;34m,\u001b[0m\u001b[0;34m\u001b[0m\u001b[0;34m\u001b[0m\u001b[0m\n\u001b[0;32m-> 1157\u001b[0;31m             X_idx_sorted=X_idx_sorted)\n\u001b[0m\u001b[1;32m   1158\u001b[0m         \u001b[0;32mreturn\u001b[0m \u001b[0mself\u001b[0m\u001b[0;34m\u001b[0m\u001b[0;34m\u001b[0m\u001b[0m\n\u001b[1;32m   1159\u001b[0m \u001b[0;34m\u001b[0m\u001b[0m\n",
            "\u001b[0;32m/usr/local/lib/python3.6/dist-packages/sklearn/tree/tree.py\u001b[0m in \u001b[0;36mfit\u001b[0;34m(self, X, y, sample_weight, check_input, X_idx_sorted)\u001b[0m\n\u001b[1;32m    378\u001b[0m                                            min_impurity_split)\n\u001b[1;32m    379\u001b[0m \u001b[0;34m\u001b[0m\u001b[0m\n\u001b[0;32m--> 380\u001b[0;31m         \u001b[0mbuilder\u001b[0m\u001b[0;34m.\u001b[0m\u001b[0mbuild\u001b[0m\u001b[0;34m(\u001b[0m\u001b[0mself\u001b[0m\u001b[0;34m.\u001b[0m\u001b[0mtree_\u001b[0m\u001b[0;34m,\u001b[0m \u001b[0mX\u001b[0m\u001b[0;34m,\u001b[0m \u001b[0my\u001b[0m\u001b[0;34m,\u001b[0m \u001b[0msample_weight\u001b[0m\u001b[0;34m,\u001b[0m \u001b[0mX_idx_sorted\u001b[0m\u001b[0;34m)\u001b[0m\u001b[0;34m\u001b[0m\u001b[0;34m\u001b[0m\u001b[0m\n\u001b[0m\u001b[1;32m    381\u001b[0m \u001b[0;34m\u001b[0m\u001b[0m\n\u001b[1;32m    382\u001b[0m         \u001b[0;32mif\u001b[0m \u001b[0mself\u001b[0m\u001b[0;34m.\u001b[0m\u001b[0mn_outputs_\u001b[0m \u001b[0;34m==\u001b[0m \u001b[0;36m1\u001b[0m\u001b[0;34m:\u001b[0m\u001b[0;34m\u001b[0m\u001b[0;34m\u001b[0m\u001b[0m\n",
            "\u001b[0;31mKeyboardInterrupt\u001b[0m: "
          ]
        }
      ]
    },
    {
      "cell_type": "code",
      "metadata": {
        "id": "y4I19xMiUIRj",
        "colab_type": "code",
        "outputId": "c3cd16f8-3b88-4e70-9c7d-a3d5de9dbf4d",
        "colab": {
          "base_uri": "https://localhost:8080/",
          "height": 746
        }
      },
      "source": [
        "X_train, X_val, y_train, y_val = train_test_split(X_data, y_data, test_size = 0.333, random_state=7)\n",
        "\n",
        "history_score = pd.DataFrame()\n",
        "\n",
        "n_est = 6000\n",
        "for i in range(40,-1,-1):\n",
        "\n",
        "\n",
        "  left = 0.001\n",
        "  right = 0.4\n",
        "  lr = (1-i/40)*(right-left) + left\n",
        "\n",
        "  #begin:\n",
        "  t_before_fit = time.time()\n",
        "\n",
        "\n",
        "  model = GradientBoostingRegressor(learning_rate=lr,\\\n",
        "                                    n_estimators=n_est,\\\n",
        "                                    loss='huber',\n",
        "                                    random_state=7)\n",
        "  model.fit(X_train, y_train)\n",
        "\n",
        "  y_pred = model.predict(X_val)\n",
        "\n",
        "  mae_score = MAE(y_pred, y_val)\n",
        "  t_after_fit = time.time()\n",
        "  #end.\n",
        "\n",
        "  tmp_df = pd.DataFrame({'MAE': [mae_score],\\\n",
        "                         'learning_rate': [lr],\\\n",
        "                         'n_estimators': [n_est]})\n",
        "  \n",
        "  history_score = history_score.append(tmp_df)\n",
        "\n",
        "  print('n_est:', n_est, '   ',\\\n",
        "        'lr:', \"%.4f\" % lr, '   ',\\\n",
        "        'MAE_score:', \"%.2f\" % (mae_score/100000), '   ',\\\n",
        "        'time:', \"%.2f\" % (t_after_fit - t_before_fit),'s')"
      ],
      "execution_count": 0,
      "outputs": [
        {
          "output_type": "stream",
          "text": [
            "n_est: 6000     lr: 0.0010     MAE_score: 16.56     time: 562.55 s\n",
            "n_est: 6000     lr: 0.0110     MAE_score: 12.45     time: 526.20 s\n",
            "n_est: 6000     lr: 0.0210     MAE_score: 10.78     time: 545.16 s\n",
            "n_est: 6000     lr: 0.0309     MAE_score: 9.70     time: 541.68 s\n",
            "n_est: 6000     lr: 0.0409     MAE_score: 8.98     time: 538.19 s\n",
            "n_est: 6000     lr: 0.0509     MAE_score: 8.43     time: 535.31 s\n",
            "n_est: 6000     lr: 0.0609     MAE_score: 7.99     time: 531.91 s\n",
            "n_est: 6000     lr: 0.0708     MAE_score: 7.84     time: 537.13 s\n",
            "n_est: 6000     lr: 0.0808     MAE_score: 7.50     time: 523.92 s\n",
            "n_est: 6000     lr: 0.0908     MAE_score: 7.53     time: 528.00 s\n",
            "n_est: 6000     lr: 0.1008     MAE_score: 7.78     time: 549.76 s\n",
            "n_est: 6000     lr: 0.1107     MAE_score: 7.52     time: 552.27 s\n",
            "n_est: 6000     lr: 0.1207     MAE_score: 7.19     time: 536.90 s\n",
            "n_est: 6000     lr: 0.1307     MAE_score: 7.30     time: 549.09 s\n",
            "n_est: 6000     lr: 0.1406     MAE_score: 7.03     time: 545.77 s\n",
            "n_est: 6000     lr: 0.1506     MAE_score: 7.04     time: 535.45 s\n",
            "n_est: 6000     lr: 0.1606     MAE_score: 7.13     time: 546.32 s\n",
            "n_est: 6000     lr: 0.1706     MAE_score: 6.97     time: 534.13 s\n",
            "n_est: 6000     lr: 0.1805     MAE_score: 6.92     time: 549.41 s\n",
            "n_est: 6000     lr: 0.1905     MAE_score: 7.27     time: 555.49 s\n",
            "n_est: 6000     lr: 0.2005     MAE_score: 7.11     time: 549.76 s\n",
            "n_est: 6000     lr: 0.2105     MAE_score: 7.42     time: 555.15 s\n",
            "n_est: 6000     lr: 0.2205     MAE_score: 7.17     time: 549.46 s\n",
            "n_est: 6000     lr: 0.2304     MAE_score: 6.75     time: 532.52 s\n",
            "n_est: 6000     lr: 0.2404     MAE_score: 7.06     time: 547.85 s\n",
            "n_est: 6000     lr: 0.2504     MAE_score: 7.09     time: 559.32 s\n",
            "n_est: 6000     lr: 0.2604     MAE_score: 6.63     time: 532.59 s\n",
            "n_est: 6000     lr: 0.2703     MAE_score: 6.67     time: 544.04 s\n",
            "n_est: 6000     lr: 0.2803     MAE_score: 7.11     time: 559.67 s\n",
            "n_est: 6000     lr: 0.2903     MAE_score: 6.71     time: 544.41 s\n",
            "n_est: 6000     lr: 0.3003     MAE_score: 7.29     time: 539.68 s\n",
            "n_est: 6000     lr: 0.3102     MAE_score: 6.72     time: 547.55 s\n",
            "n_est: 6000     lr: 0.3202     MAE_score: 6.85     time: 571.24 s\n",
            "n_est: 6000     lr: 0.3302     MAE_score: 7.36     time: 553.68 s\n",
            "n_est: 6000     lr: 0.3402     MAE_score: 7.25     time: 556.90 s\n",
            "n_est: 6000     lr: 0.3501     MAE_score: 6.58     time: 511.45 s\n",
            "n_est: 6000     lr: 0.3601     MAE_score: 6.75     time: 565.81 s\n",
            "n_est: 6000     lr: 0.3701     MAE_score: 6.57     time: 514.05 s\n",
            "n_est: 6000     lr: 0.3800     MAE_score: 7.09     time: 560.81 s\n",
            "n_est: 6000     lr: 0.3900     MAE_score: 7.33     time: 570.03 s\n",
            "n_est: 6000     lr: 0.4000     MAE_score: 6.54     time: 533.44 s\n"
          ],
          "name": "stdout"
        }
      ]
    },
    {
      "cell_type": "code",
      "metadata": {
        "id": "b1FoHYbVtDOe",
        "colab_type": "code",
        "colab": {}
      },
      "source": [
        "X_train, X_val, y_train, y_val = train_test_split(X_data, y_data, test_size = 0.333, random_state=7)\n",
        "\n",
        "n_est = 6000\n",
        "lr = 0.31666\n",
        "\n",
        "#begin:\n",
        "t_before_fit = time.time()\n",
        "\n",
        "\n",
        "model = GradientBoostingRegressor(learning_rate=lr,\\\n",
        "                                  n_estimators=n_est,\\\n",
        "                                  loss='huber',\n",
        "                                  random_state=7)\n",
        "model.fit(X_train, y_train)\n",
        "\n",
        "y_pred = model.predict(X_val)\n",
        "\n",
        "mae_score = MAE(y_pred, y_val)\n",
        "t_after_fit = time.time()\n",
        "#end.\n",
        "\n",
        "tmp_df = pd.DataFrame({'MAE': [mae_score],\\\n",
        "                        'learning_rate': [lr],\\\n",
        "                        'n_estimators': [n_est]})\n",
        "\n",
        "print('n_est:', n_est, '   ',\\\n",
        "      'lr:', \"%.4f\" % lr, '   ',\\\n",
        "      'MAE_score:', \"%.2f\" % (mae_score/100000), '   ',\\\n",
        "      'time:', \"%.2f\" % (t_after_fit - t_before_fit),'s')"
      ],
      "execution_count": 0,
      "outputs": []
    },
    {
      "cell_type": "code",
      "metadata": {
        "id": "TTHUKnzWwe-s",
        "colab_type": "code",
        "outputId": "acc4f8a2-5fda-404b-db08-c8a7a28fd435",
        "colab": {
          "base_uri": "https://localhost:8080/",
          "height": 35
        }
      },
      "source": [
        "print('n_est:', n_est, '   ',\\\n",
        "      'lr:', \"%.4f\" % lr, '   ',\\\n",
        "      'MAE_score:', \"%.2f\" % (mae_score/100000), '   ',\\\n",
        "      'time:', \"%.2f\" % (t_after_fit - t_before_fit),'s')"
      ],
      "execution_count": 0,
      "outputs": [
        {
          "output_type": "stream",
          "text": [
            "n_est: 6000     lr: 0.3167     MAE_score: 6.95     time: 529.95 s\n"
          ],
          "name": "stdout"
        }
      ]
    },
    {
      "cell_type": "code",
      "metadata": {
        "id": "4K0gyjTQ8-jG",
        "colab_type": "code",
        "outputId": "0f70b637-ecbd-4cb6-b9cb-05bcc8383189",
        "colab": {
          "base_uri": "https://localhost:8080/",
          "height": 1000
        }
      },
      "source": [
        "history_score"
      ],
      "execution_count": 0,
      "outputs": [
        {
          "output_type": "execute_result",
          "data": {
            "text/html": [
              "<div>\n",
              "<style scoped>\n",
              "    .dataframe tbody tr th:only-of-type {\n",
              "        vertical-align: middle;\n",
              "    }\n",
              "\n",
              "    .dataframe tbody tr th {\n",
              "        vertical-align: top;\n",
              "    }\n",
              "\n",
              "    .dataframe thead th {\n",
              "        text-align: right;\n",
              "    }\n",
              "</style>\n",
              "<table border=\"1\" class=\"dataframe\">\n",
              "  <thead>\n",
              "    <tr style=\"text-align: right;\">\n",
              "      <th></th>\n",
              "      <th>MAE</th>\n",
              "      <th>learning_rate</th>\n",
              "      <th>n_estimators</th>\n",
              "    </tr>\n",
              "  </thead>\n",
              "  <tbody>\n",
              "    <tr>\n",
              "      <th>0</th>\n",
              "      <td>1.656151e+06</td>\n",
              "      <td>0.001000</td>\n",
              "      <td>6000</td>\n",
              "    </tr>\n",
              "    <tr>\n",
              "      <th>0</th>\n",
              "      <td>1.244522e+06</td>\n",
              "      <td>0.010975</td>\n",
              "      <td>6000</td>\n",
              "    </tr>\n",
              "    <tr>\n",
              "      <th>0</th>\n",
              "      <td>1.078390e+06</td>\n",
              "      <td>0.020950</td>\n",
              "      <td>6000</td>\n",
              "    </tr>\n",
              "    <tr>\n",
              "      <th>0</th>\n",
              "      <td>9.695196e+05</td>\n",
              "      <td>0.030925</td>\n",
              "      <td>6000</td>\n",
              "    </tr>\n",
              "    <tr>\n",
              "      <th>0</th>\n",
              "      <td>8.981038e+05</td>\n",
              "      <td>0.040900</td>\n",
              "      <td>6000</td>\n",
              "    </tr>\n",
              "    <tr>\n",
              "      <th>0</th>\n",
              "      <td>8.432966e+05</td>\n",
              "      <td>0.050875</td>\n",
              "      <td>6000</td>\n",
              "    </tr>\n",
              "    <tr>\n",
              "      <th>0</th>\n",
              "      <td>7.987409e+05</td>\n",
              "      <td>0.060850</td>\n",
              "      <td>6000</td>\n",
              "    </tr>\n",
              "    <tr>\n",
              "      <th>0</th>\n",
              "      <td>7.839749e+05</td>\n",
              "      <td>0.070825</td>\n",
              "      <td>6000</td>\n",
              "    </tr>\n",
              "    <tr>\n",
              "      <th>0</th>\n",
              "      <td>7.502300e+05</td>\n",
              "      <td>0.080800</td>\n",
              "      <td>6000</td>\n",
              "    </tr>\n",
              "    <tr>\n",
              "      <th>0</th>\n",
              "      <td>7.526575e+05</td>\n",
              "      <td>0.090775</td>\n",
              "      <td>6000</td>\n",
              "    </tr>\n",
              "    <tr>\n",
              "      <th>0</th>\n",
              "      <td>7.775218e+05</td>\n",
              "      <td>0.100750</td>\n",
              "      <td>6000</td>\n",
              "    </tr>\n",
              "    <tr>\n",
              "      <th>0</th>\n",
              "      <td>7.519643e+05</td>\n",
              "      <td>0.110725</td>\n",
              "      <td>6000</td>\n",
              "    </tr>\n",
              "    <tr>\n",
              "      <th>0</th>\n",
              "      <td>7.193725e+05</td>\n",
              "      <td>0.120700</td>\n",
              "      <td>6000</td>\n",
              "    </tr>\n",
              "    <tr>\n",
              "      <th>0</th>\n",
              "      <td>7.302323e+05</td>\n",
              "      <td>0.130675</td>\n",
              "      <td>6000</td>\n",
              "    </tr>\n",
              "    <tr>\n",
              "      <th>0</th>\n",
              "      <td>7.032838e+05</td>\n",
              "      <td>0.140650</td>\n",
              "      <td>6000</td>\n",
              "    </tr>\n",
              "    <tr>\n",
              "      <th>0</th>\n",
              "      <td>7.035027e+05</td>\n",
              "      <td>0.150625</td>\n",
              "      <td>6000</td>\n",
              "    </tr>\n",
              "    <tr>\n",
              "      <th>0</th>\n",
              "      <td>7.127416e+05</td>\n",
              "      <td>0.160600</td>\n",
              "      <td>6000</td>\n",
              "    </tr>\n",
              "    <tr>\n",
              "      <th>0</th>\n",
              "      <td>6.973940e+05</td>\n",
              "      <td>0.170575</td>\n",
              "      <td>6000</td>\n",
              "    </tr>\n",
              "    <tr>\n",
              "      <th>0</th>\n",
              "      <td>6.921454e+05</td>\n",
              "      <td>0.180550</td>\n",
              "      <td>6000</td>\n",
              "    </tr>\n",
              "    <tr>\n",
              "      <th>0</th>\n",
              "      <td>7.265758e+05</td>\n",
              "      <td>0.190525</td>\n",
              "      <td>6000</td>\n",
              "    </tr>\n",
              "    <tr>\n",
              "      <th>0</th>\n",
              "      <td>7.109608e+05</td>\n",
              "      <td>0.200500</td>\n",
              "      <td>6000</td>\n",
              "    </tr>\n",
              "    <tr>\n",
              "      <th>0</th>\n",
              "      <td>7.416542e+05</td>\n",
              "      <td>0.210475</td>\n",
              "      <td>6000</td>\n",
              "    </tr>\n",
              "    <tr>\n",
              "      <th>0</th>\n",
              "      <td>7.174897e+05</td>\n",
              "      <td>0.220450</td>\n",
              "      <td>6000</td>\n",
              "    </tr>\n",
              "    <tr>\n",
              "      <th>0</th>\n",
              "      <td>6.746200e+05</td>\n",
              "      <td>0.230425</td>\n",
              "      <td>6000</td>\n",
              "    </tr>\n",
              "    <tr>\n",
              "      <th>0</th>\n",
              "      <td>7.058033e+05</td>\n",
              "      <td>0.240400</td>\n",
              "      <td>6000</td>\n",
              "    </tr>\n",
              "    <tr>\n",
              "      <th>0</th>\n",
              "      <td>7.092000e+05</td>\n",
              "      <td>0.250375</td>\n",
              "      <td>6000</td>\n",
              "    </tr>\n",
              "    <tr>\n",
              "      <th>0</th>\n",
              "      <td>6.627513e+05</td>\n",
              "      <td>0.260350</td>\n",
              "      <td>6000</td>\n",
              "    </tr>\n",
              "    <tr>\n",
              "      <th>0</th>\n",
              "      <td>6.671801e+05</td>\n",
              "      <td>0.270325</td>\n",
              "      <td>6000</td>\n",
              "    </tr>\n",
              "    <tr>\n",
              "      <th>0</th>\n",
              "      <td>7.114735e+05</td>\n",
              "      <td>0.280300</td>\n",
              "      <td>6000</td>\n",
              "    </tr>\n",
              "    <tr>\n",
              "      <th>0</th>\n",
              "      <td>6.711646e+05</td>\n",
              "      <td>0.290275</td>\n",
              "      <td>6000</td>\n",
              "    </tr>\n",
              "    <tr>\n",
              "      <th>0</th>\n",
              "      <td>7.291233e+05</td>\n",
              "      <td>0.300250</td>\n",
              "      <td>6000</td>\n",
              "    </tr>\n",
              "    <tr>\n",
              "      <th>0</th>\n",
              "      <td>6.716308e+05</td>\n",
              "      <td>0.310225</td>\n",
              "      <td>6000</td>\n",
              "    </tr>\n",
              "    <tr>\n",
              "      <th>0</th>\n",
              "      <td>6.847422e+05</td>\n",
              "      <td>0.320200</td>\n",
              "      <td>6000</td>\n",
              "    </tr>\n",
              "    <tr>\n",
              "      <th>0</th>\n",
              "      <td>7.357024e+05</td>\n",
              "      <td>0.330175</td>\n",
              "      <td>6000</td>\n",
              "    </tr>\n",
              "    <tr>\n",
              "      <th>0</th>\n",
              "      <td>7.253353e+05</td>\n",
              "      <td>0.340150</td>\n",
              "      <td>6000</td>\n",
              "    </tr>\n",
              "    <tr>\n",
              "      <th>0</th>\n",
              "      <td>6.579612e+05</td>\n",
              "      <td>0.350125</td>\n",
              "      <td>6000</td>\n",
              "    </tr>\n",
              "    <tr>\n",
              "      <th>0</th>\n",
              "      <td>6.752664e+05</td>\n",
              "      <td>0.360100</td>\n",
              "      <td>6000</td>\n",
              "    </tr>\n",
              "    <tr>\n",
              "      <th>0</th>\n",
              "      <td>6.569230e+05</td>\n",
              "      <td>0.370075</td>\n",
              "      <td>6000</td>\n",
              "    </tr>\n",
              "    <tr>\n",
              "      <th>0</th>\n",
              "      <td>7.088503e+05</td>\n",
              "      <td>0.380050</td>\n",
              "      <td>6000</td>\n",
              "    </tr>\n",
              "    <tr>\n",
              "      <th>0</th>\n",
              "      <td>7.333419e+05</td>\n",
              "      <td>0.390025</td>\n",
              "      <td>6000</td>\n",
              "    </tr>\n",
              "    <tr>\n",
              "      <th>0</th>\n",
              "      <td>6.538580e+05</td>\n",
              "      <td>0.400000</td>\n",
              "      <td>6000</td>\n",
              "    </tr>\n",
              "  </tbody>\n",
              "</table>\n",
              "</div>"
            ],
            "text/plain": [
              "            MAE  learning_rate  n_estimators\n",
              "0  1.656151e+06       0.001000          6000\n",
              "0  1.244522e+06       0.010975          6000\n",
              "0  1.078390e+06       0.020950          6000\n",
              "0  9.695196e+05       0.030925          6000\n",
              "0  8.981038e+05       0.040900          6000\n",
              "0  8.432966e+05       0.050875          6000\n",
              "0  7.987409e+05       0.060850          6000\n",
              "0  7.839749e+05       0.070825          6000\n",
              "0  7.502300e+05       0.080800          6000\n",
              "0  7.526575e+05       0.090775          6000\n",
              "0  7.775218e+05       0.100750          6000\n",
              "0  7.519643e+05       0.110725          6000\n",
              "0  7.193725e+05       0.120700          6000\n",
              "0  7.302323e+05       0.130675          6000\n",
              "0  7.032838e+05       0.140650          6000\n",
              "0  7.035027e+05       0.150625          6000\n",
              "0  7.127416e+05       0.160600          6000\n",
              "0  6.973940e+05       0.170575          6000\n",
              "0  6.921454e+05       0.180550          6000\n",
              "0  7.265758e+05       0.190525          6000\n",
              "0  7.109608e+05       0.200500          6000\n",
              "0  7.416542e+05       0.210475          6000\n",
              "0  7.174897e+05       0.220450          6000\n",
              "0  6.746200e+05       0.230425          6000\n",
              "0  7.058033e+05       0.240400          6000\n",
              "0  7.092000e+05       0.250375          6000\n",
              "0  6.627513e+05       0.260350          6000\n",
              "0  6.671801e+05       0.270325          6000\n",
              "0  7.114735e+05       0.280300          6000\n",
              "0  6.711646e+05       0.290275          6000\n",
              "0  7.291233e+05       0.300250          6000\n",
              "0  6.716308e+05       0.310225          6000\n",
              "0  6.847422e+05       0.320200          6000\n",
              "0  7.357024e+05       0.330175          6000\n",
              "0  7.253353e+05       0.340150          6000\n",
              "0  6.579612e+05       0.350125          6000\n",
              "0  6.752664e+05       0.360100          6000\n",
              "0  6.569230e+05       0.370075          6000\n",
              "0  7.088503e+05       0.380050          6000\n",
              "0  7.333419e+05       0.390025          6000\n",
              "0  6.538580e+05       0.400000          6000"
            ]
          },
          "metadata": {
            "tags": []
          },
          "execution_count": 14
        }
      ]
    },
    {
      "cell_type": "code",
      "metadata": {
        "id": "Qdzl9vmPjNt3",
        "colab_type": "code",
        "colab": {
          "base_uri": "https://localhost:8080/",
          "height": 408
        },
        "outputId": "973abea5-503a-4e3e-a372-62e1f87a9a8a"
      },
      "source": [
        "X_train, X_val, y_train, y_val = train_test_split(X_data, y_data, test_size = 0.333, random_state=7)\n",
        "\n",
        "n_est=11000\n",
        "for i in range(2,6):\n",
        "\n",
        "  lr = (1-i/5)*(0.20-0.08) + 0.08\n",
        "\n",
        "  #begin:\n",
        "  t_before_fit = time.time()\n",
        "\n",
        "  model = GradientBoostingRegressor(learning_rate=lr,\\\n",
        "                                    n_estimators=n_est,\\\n",
        "                                    loss='huber',\n",
        "                                    random_state=7)\n",
        "  model.fit(X_train, y_train)\n",
        "  y_pred = model.predict(X_val)\n",
        "\n",
        "  mae_score = MAE(y_pred, y_val)\n",
        "  mse_score = MSE(y_pred, y_val)\n",
        "  evs_score = EVS(y_pred, y_val)\n",
        "\n",
        "  #mae_score = cross_val_score(model, X_data, y_data, cv=5, scoring=make_scorer(MAE)).mean()\n",
        "\n",
        "  t_after_fit = time.time()\n",
        "  #end.\n",
        "\n",
        "  print('n_est:', n_est, '   ',\\\n",
        "        'lr:', \"%.5f\" % lr, '   ',\\\n",
        "        'MAE_score:', \"%.2f\" % (mae_score/100000), '   ',\\\n",
        "        'MSE_score:', \"%.2f\" % (mse_score/100000000), '   ',\\\n",
        "        'EVS_score:', \"%.2f\" % evs_score, '   ',\\\n",
        "        'time:', \"%.2f\" % (t_after_fit - t_before_fit),'s')"
      ],
      "execution_count": 42,
      "outputs": [
        {
          "output_type": "stream",
          "text": [
            "n_est: 11000     lr: 0.15200     MAE_score: 6.87     MSE_score: 19996.17     EVS_score: 0.86     time: 972.28 s\n",
            "n_est: 11000     lr: 0.12800     MAE_score: 6.85     MSE_score: 19877.75     EVS_score: 0.86     time: 967.78 s\n"
          ],
          "name": "stdout"
        },
        {
          "output_type": "error",
          "ename": "KeyboardInterrupt",
          "evalue": "ignored",
          "traceback": [
            "\u001b[0;31m---------------------------------------------------------------------------\u001b[0m",
            "\u001b[0;31mKeyboardInterrupt\u001b[0m                         Traceback (most recent call last)",
            "\u001b[0;32m<ipython-input-42-fb40cb0fb2b6>\u001b[0m in \u001b[0;36m<module>\u001b[0;34m()\u001b[0m\n\u001b[1;32m     11\u001b[0m   model = GradientBoostingRegressor(learning_rate=lr,                                    n_estimators=n_est,                                    loss='huber',\n\u001b[1;32m     12\u001b[0m                                     random_state=7)\n\u001b[0;32m---> 13\u001b[0;31m   \u001b[0mmodel\u001b[0m\u001b[0;34m.\u001b[0m\u001b[0mfit\u001b[0m\u001b[0;34m(\u001b[0m\u001b[0mX_train\u001b[0m\u001b[0;34m,\u001b[0m \u001b[0my_train\u001b[0m\u001b[0;34m)\u001b[0m\u001b[0;34m\u001b[0m\u001b[0;34m\u001b[0m\u001b[0m\n\u001b[0m\u001b[1;32m     14\u001b[0m   \u001b[0my_pred\u001b[0m \u001b[0;34m=\u001b[0m \u001b[0mmodel\u001b[0m\u001b[0;34m.\u001b[0m\u001b[0mpredict\u001b[0m\u001b[0;34m(\u001b[0m\u001b[0mX_val\u001b[0m\u001b[0;34m)\u001b[0m\u001b[0;34m\u001b[0m\u001b[0;34m\u001b[0m\u001b[0m\n\u001b[1;32m     15\u001b[0m \u001b[0;34m\u001b[0m\u001b[0m\n",
            "\u001b[0;32m/usr/local/lib/python3.6/dist-packages/sklearn/ensemble/gradient_boosting.py\u001b[0m in \u001b[0;36mfit\u001b[0;34m(self, X, y, sample_weight, monitor)\u001b[0m\n\u001b[1;32m   1544\u001b[0m         n_stages = self._fit_stages(\n\u001b[1;32m   1545\u001b[0m             \u001b[0mX\u001b[0m\u001b[0;34m,\u001b[0m \u001b[0my\u001b[0m\u001b[0;34m,\u001b[0m \u001b[0mraw_predictions\u001b[0m\u001b[0;34m,\u001b[0m \u001b[0msample_weight\u001b[0m\u001b[0;34m,\u001b[0m \u001b[0mself\u001b[0m\u001b[0;34m.\u001b[0m\u001b[0m_rng\u001b[0m\u001b[0;34m,\u001b[0m \u001b[0mX_val\u001b[0m\u001b[0;34m,\u001b[0m \u001b[0my_val\u001b[0m\u001b[0;34m,\u001b[0m\u001b[0;34m\u001b[0m\u001b[0;34m\u001b[0m\u001b[0m\n\u001b[0;32m-> 1546\u001b[0;31m             sample_weight_val, begin_at_stage, monitor, X_idx_sorted)\n\u001b[0m\u001b[1;32m   1547\u001b[0m \u001b[0;34m\u001b[0m\u001b[0m\n\u001b[1;32m   1548\u001b[0m         \u001b[0;31m# change shape of arrays after fit (early-stopping or additional ests)\u001b[0m\u001b[0;34m\u001b[0m\u001b[0;34m\u001b[0m\u001b[0;34m\u001b[0m\u001b[0m\n",
            "\u001b[0;32m/usr/local/lib/python3.6/dist-packages/sklearn/ensemble/gradient_boosting.py\u001b[0m in \u001b[0;36m_fit_stages\u001b[0;34m(self, X, y, raw_predictions, sample_weight, random_state, X_val, y_val, sample_weight_val, begin_at_stage, monitor, X_idx_sorted)\u001b[0m\n\u001b[1;32m   1608\u001b[0m             raw_predictions = self._fit_stage(\n\u001b[1;32m   1609\u001b[0m                 \u001b[0mi\u001b[0m\u001b[0;34m,\u001b[0m \u001b[0mX\u001b[0m\u001b[0;34m,\u001b[0m \u001b[0my\u001b[0m\u001b[0;34m,\u001b[0m \u001b[0mraw_predictions\u001b[0m\u001b[0;34m,\u001b[0m \u001b[0msample_weight\u001b[0m\u001b[0;34m,\u001b[0m \u001b[0msample_mask\u001b[0m\u001b[0;34m,\u001b[0m\u001b[0;34m\u001b[0m\u001b[0;34m\u001b[0m\u001b[0m\n\u001b[0;32m-> 1610\u001b[0;31m                 random_state, X_idx_sorted, X_csc, X_csr)\n\u001b[0m\u001b[1;32m   1611\u001b[0m \u001b[0;34m\u001b[0m\u001b[0m\n\u001b[1;32m   1612\u001b[0m             \u001b[0;31m# track deviance (= loss)\u001b[0m\u001b[0;34m\u001b[0m\u001b[0;34m\u001b[0m\u001b[0;34m\u001b[0m\u001b[0m\n",
            "\u001b[0;32m/usr/local/lib/python3.6/dist-packages/sklearn/ensemble/gradient_boosting.py\u001b[0m in \u001b[0;36m_fit_stage\u001b[0;34m(self, i, X, y, raw_predictions, sample_weight, sample_mask, random_state, X_idx_sorted, X_csc, X_csr)\u001b[0m\n\u001b[1;32m   1242\u001b[0m             \u001b[0mX\u001b[0m \u001b[0;34m=\u001b[0m \u001b[0mX_csr\u001b[0m \u001b[0;32mif\u001b[0m \u001b[0mX_csr\u001b[0m \u001b[0;32mis\u001b[0m \u001b[0;32mnot\u001b[0m \u001b[0;32mNone\u001b[0m \u001b[0;32melse\u001b[0m \u001b[0mX\u001b[0m\u001b[0;34m\u001b[0m\u001b[0;34m\u001b[0m\u001b[0m\n\u001b[1;32m   1243\u001b[0m             tree.fit(X, residual, sample_weight=sample_weight,\n\u001b[0;32m-> 1244\u001b[0;31m                      check_input=False, X_idx_sorted=X_idx_sorted)\n\u001b[0m\u001b[1;32m   1245\u001b[0m \u001b[0;34m\u001b[0m\u001b[0m\n\u001b[1;32m   1246\u001b[0m             \u001b[0;31m# update tree leaves\u001b[0m\u001b[0;34m\u001b[0m\u001b[0;34m\u001b[0m\u001b[0;34m\u001b[0m\u001b[0m\n",
            "\u001b[0;32m/usr/local/lib/python3.6/dist-packages/sklearn/tree/tree.py\u001b[0m in \u001b[0;36mfit\u001b[0;34m(self, X, y, sample_weight, check_input, X_idx_sorted)\u001b[0m\n\u001b[1;32m   1155\u001b[0m             \u001b[0msample_weight\u001b[0m\u001b[0;34m=\u001b[0m\u001b[0msample_weight\u001b[0m\u001b[0;34m,\u001b[0m\u001b[0;34m\u001b[0m\u001b[0;34m\u001b[0m\u001b[0m\n\u001b[1;32m   1156\u001b[0m             \u001b[0mcheck_input\u001b[0m\u001b[0;34m=\u001b[0m\u001b[0mcheck_input\u001b[0m\u001b[0;34m,\u001b[0m\u001b[0;34m\u001b[0m\u001b[0;34m\u001b[0m\u001b[0m\n\u001b[0;32m-> 1157\u001b[0;31m             X_idx_sorted=X_idx_sorted)\n\u001b[0m\u001b[1;32m   1158\u001b[0m         \u001b[0;32mreturn\u001b[0m \u001b[0mself\u001b[0m\u001b[0;34m\u001b[0m\u001b[0;34m\u001b[0m\u001b[0m\n\u001b[1;32m   1159\u001b[0m \u001b[0;34m\u001b[0m\u001b[0m\n",
            "\u001b[0;32m/usr/local/lib/python3.6/dist-packages/sklearn/tree/tree.py\u001b[0m in \u001b[0;36mfit\u001b[0;34m(self, X, y, sample_weight, check_input, X_idx_sorted)\u001b[0m\n\u001b[1;32m    378\u001b[0m                                            min_impurity_split)\n\u001b[1;32m    379\u001b[0m \u001b[0;34m\u001b[0m\u001b[0m\n\u001b[0;32m--> 380\u001b[0;31m         \u001b[0mbuilder\u001b[0m\u001b[0;34m.\u001b[0m\u001b[0mbuild\u001b[0m\u001b[0;34m(\u001b[0m\u001b[0mself\u001b[0m\u001b[0;34m.\u001b[0m\u001b[0mtree_\u001b[0m\u001b[0;34m,\u001b[0m \u001b[0mX\u001b[0m\u001b[0;34m,\u001b[0m \u001b[0my\u001b[0m\u001b[0;34m,\u001b[0m \u001b[0msample_weight\u001b[0m\u001b[0;34m,\u001b[0m \u001b[0mX_idx_sorted\u001b[0m\u001b[0;34m)\u001b[0m\u001b[0;34m\u001b[0m\u001b[0;34m\u001b[0m\u001b[0m\n\u001b[0m\u001b[1;32m    381\u001b[0m \u001b[0;34m\u001b[0m\u001b[0m\n\u001b[1;32m    382\u001b[0m         \u001b[0;32mif\u001b[0m \u001b[0mself\u001b[0m\u001b[0;34m.\u001b[0m\u001b[0mn_outputs_\u001b[0m \u001b[0;34m==\u001b[0m \u001b[0;36m1\u001b[0m\u001b[0;34m:\u001b[0m\u001b[0;34m\u001b[0m\u001b[0;34m\u001b[0m\u001b[0m\n",
            "\u001b[0;31mKeyboardInterrupt\u001b[0m: "
          ]
        }
      ]
    },
    {
      "cell_type": "code",
      "metadata": {
        "id": "2cFGrWl33BKT",
        "colab_type": "code",
        "outputId": "7a40a7fa-4fd1-4671-c2bf-fba0781ed8a2",
        "colab": {
          "base_uri": "https://localhost:8080/",
          "height": 119
        }
      },
      "source": [
        ""
      ],
      "execution_count": 41,
      "outputs": [
        {
          "output_type": "stream",
          "text": [
            "n_est: 11000     lr: 0.20000     MAE_score: 6.94     MSE_score: 20073.51     EVS_score: 0.86     time: 956.73 s\n",
            "n_est: 11000     lr: 0.17600     MAE_score: 6.55     MSE_score: 19656.36     EVS_score: 0.87     time: 976.05 s\n",
            "n_est: 11000     lr: 0.15200     MAE_score: 6.87     MSE_score: 19996.17     EVS_score: 0.86     time: 977.69 s\n",
            "n_est: 11000     lr: 0.12800     MAE_score: 6.85     MSE_score: 19877.75     EVS_score: 0.86     time: 970.13 s\n",
            "n_est: 11000     lr: 0.10400     MAE_score: 6.91     MSE_score: 20227.16     EVS_score: 0.85     time: 956.84 s\n",
            "n_est: 11000     lr: 0.08000     MAE_score: 7.20     MSE_score: 20712.59     EVS_score: 0.85     time: 955.08 s\n"
          ],
          "name": "stdout"
        }
      ]
    },
    {
      "cell_type": "code",
      "metadata": {
        "id": "jXxoz4QMd1Ha",
        "colab_type": "code",
        "outputId": "9654682e-d132-4fe4-d708-ad2d96802c6e",
        "colab": {
          "base_uri": "https://localhost:8080/",
          "height": 168
        }
      },
      "source": [
        "history_score"
      ],
      "execution_count": 0,
      "outputs": [
        {
          "output_type": "error",
          "ename": "NameError",
          "evalue": "ignored",
          "traceback": [
            "\u001b[0;31m---------------------------------------------------------------------------\u001b[0m",
            "\u001b[0;31mNameError\u001b[0m                                 Traceback (most recent call last)",
            "\u001b[0;32m<ipython-input-1-769cf975c534>\u001b[0m in \u001b[0;36m<module>\u001b[0;34m()\u001b[0m\n\u001b[0;32m----> 1\u001b[0;31m \u001b[0mhistory_score\u001b[0m\u001b[0;34m\u001b[0m\u001b[0;34m\u001b[0m\u001b[0m\n\u001b[0m",
            "\u001b[0;31mNameError\u001b[0m: name 'history_score' is not defined"
          ]
        }
      ]
    },
    {
      "cell_type": "code",
      "metadata": {
        "id": "1yPQ-RDX6xtx",
        "colab_type": "code",
        "colab": {}
      },
      "source": [
        "#n_est=11000, lr=0.12, time=769s: mae=7.17\n",
        "#n_est=4000,  lr=0.3,  time=401s: mae=7.28"
      ],
      "execution_count": 0,
      "outputs": []
    },
    {
      "cell_type": "markdown",
      "metadata": {
        "id": "f_LeZCNce_MZ",
        "colab_type": "text"
      },
      "source": [
        "#***Формирование .csv файла:***"
      ]
    },
    {
      "cell_type": "code",
      "metadata": {
        "id": "vQWcyRsCe-Cp",
        "colab_type": "code",
        "outputId": "9b4edad9-d512-48cd-fa81-8e79a22d7714",
        "colab": {
          "base_uri": "https://localhost:8080/",
          "height": 34
        }
      },
      "source": [
        "#lr = 0.31, n_est = 6000\n",
        "#lr = 0.12, n_est = 11000\n",
        "\n",
        "#begin:\n",
        "t_before_fit = time.time()\n",
        "\n",
        "model = GradientBoostingRegressor(learning_rate=0.176,\\\n",
        "                                  n_estimators=11000,\\\n",
        "                                  loss='huber',\n",
        "                                  random_state=7)\n",
        "\n",
        "model.fit(X_data, y_data)\n",
        "\n",
        "t_after_fit = time.time()\n",
        "#end.\n",
        "\n",
        "print('time:  ', \"%.2f\" % (t_after_fit - t_before_fit),'s')"
      ],
      "execution_count": 43,
      "outputs": [
        {
          "output_type": "stream",
          "text": [
            "time:   1265.48 s\n"
          ],
          "name": "stdout"
        }
      ]
    },
    {
      "cell_type": "code",
      "metadata": {
        "id": "fqmqwSAcfKyY",
        "colab_type": "code",
        "outputId": "bf03cf0a-718b-44df-e1ee-09df63612cba",
        "colab": {
          "base_uri": "https://localhost:8080/",
          "height": 34
        }
      },
      "source": [
        "#begin:\n",
        "t_before_fit = time.time()\n",
        "\n",
        "y_pred = model.predict(X_test)\n",
        "test_df['price'] = y_pred\n",
        "\n",
        "t_after_fit = time.time()\n",
        "#end.\n",
        "\n",
        "print('time:  ', \"%.2f\" % (t_after_fit - t_before_fit),'s')"
      ],
      "execution_count": 44,
      "outputs": [
        {
          "output_type": "stream",
          "text": [
            "time:   18.04 s\n"
          ],
          "name": "stdout"
        }
      ]
    },
    {
      "cell_type": "code",
      "metadata": {
        "id": "JGZekonOfLl6",
        "colab_type": "code",
        "colab": {}
      },
      "source": [
        "test_df[[\"id\", \"price\"]].to_csv(\"submission1.csv\", index=False)\n",
        "\n",
        "from google.colab import files\n",
        "files.download('submission1.csv')"
      ],
      "execution_count": 0,
      "outputs": []
    }
  ]
}